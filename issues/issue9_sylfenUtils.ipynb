{
 "cells": [
  {
   "cell_type": "markdown",
   "id": "d9b75a15-7392-4fd5-916f-8840695268b6",
   "metadata": {
    "jp-MarkdownHeadingCollapsed": true,
    "tags": []
   },
   "source": [
    "# 0. Installation and import the libraries"
   ]
  },
  {
   "cell_type": "markdown",
   "id": "74848107-3af9-4218-bb17-e6d1e2d0a9ef",
   "metadata": {},
   "source": [
    "FIRST THING FIRST. \n",
    "\n",
    "Install sylfenUtils==1.5 in a virtual environment. Replace sylfen-user by your own account on Gaston in the following command and enter your password when asked:\n",
    "```\n",
    "pip install sylfenUtils @git+ssh://<sylfen-user>@cheylas.sylfen.com/home/<sylfen-user>/gitRepos/sylfenUtils.git@1.5\n",
    "```\n",
    "In order to run your jupyter-notebook with your virtual environment follow instructions [here](https://queirozf.com/entries/jupyter-kernels-how-to-add-change-remove).\n",
    "Then import the libraries."
   ]
  },
  {
   "cell_type": "code",
   "execution_count": null,
   "id": "73f57c21-c608-44ac-8e4f-62103b2daafb",
   "metadata": {},
   "outputs": [],
   "source": [
    "from sylfenUtils import comUtils\n",
    "import os,sys,re, pandas as pd"
   ]
  },
  {
   "cell_type": "code",
   "execution_count": null,
   "id": "2714dede-ece7-4924-ae49-e54a7ecd147c",
   "metadata": {
    "tags": []
   },
   "outputs": [],
   "source": [
    "pip list"
   ]
  },
  {
   "cell_type": "markdown",
   "id": "f2625305-c0d3-4c8b-b439-2d8e906e6631",
   "metadata": {
    "jp-MarkdownHeadingCollapsed": true,
    "tags": []
   },
   "source": [
    "# 1.Build the configuration of your project\n",
    "For convenience put your configuration work in a conf.py file which should serve as an object with all\n",
    "the important information. \n",
    "It will be called as a module(import conf) \n",
    "You can also create a class and instanciate it (conf=Conf())"
   ]
  },
  {
   "cell_type": "code",
   "execution_count": null,
   "id": "6598c76f-a220-4a2d-af6a-87b01771adda",
   "metadata": {},
   "outputs": [],
   "source": [
    "class Conf():### not necessary if you call the module of course.\n",
    "    pass\n",
    "\n",
    "conf=Conf()"
   ]
  },
  {
   "cell_type": "markdown",
   "id": "ec8db61b-911b-48ac-8e8a-e6f94d7d958d",
   "metadata": {},
   "source": [
    "Let's say you have a modbus table of a device in a \"modbus_dummy.csv\"(download it [here](wiki.sylfen.com/notebooks/data/modbus_dummy.csv) ) file and you can call this device \"dummy\" "
   ]
  },
  {
   "cell_type": "code",
   "execution_count": null,
   "id": "3d72a6b7-5094-42d4-85cb-a0c9a1adc42a",
   "metadata": {
    "tags": []
   },
   "outputs": [],
   "source": [
    "conf.dummy_modbus_map=pd.read_csv('modbus_dummy.csv',index_col=0)\n",
    "conf.dummy_modbus_map"
   ]
  },
  {
   "cell_type": "markdown",
   "id": "e8735635-2c4c-499c-b8a8-3971ca882d8e",
   "metadata": {},
   "source": [
    "To use the dumper class of the comUtils module of the sylfenUtils library you need to build a df_plc dataframe with at least following columns:\n",
    "- TAGS(as index)\n",
    "- DESCRIPTION\n",
    "- UNITE\n",
    "- DATATYPE. \n",
    "For example you can build it from your dummy_modbus_device as follow:"
   ]
  },
  {
   "cell_type": "code",
   "execution_count": null,
   "id": "3aeb45ea-235d-4b1c-9548-5ab797244a13",
   "metadata": {},
   "outputs": [],
   "source": [
    "df_plc=conf.dummy_modbus_map[['description','unit','type']]\n",
    "df_plc.columns=['DESCRIPTION','UNITE','DATATYPE']\n",
    "conf.dummy_df_plc=df_plc"
   ]
  },
  {
   "cell_type": "markdown",
   "id": "0c11bbfb-98b5-4081-9d52-1fe94c6eb70b",
   "metadata": {},
   "source": [
    "Your configuration is done now. \n",
    "A trick in order not to have to generate the whole configuration you can store the result in a .pkl file with the pandas function **to_pickle** and put all the steps need to recreate your whole configuration in a function (\"createMyConf\" for example). Then you can call this function to regenerate your configuration. Otherwise just load the .pkl file(will be much faster if you have a lot of steps).\n",
    "\n",
    "Now you need to precise the parameters of the database you want to use.\n",
    "For the data acquisition you NEED TO INSTALL POSTGRESSQL and CREATE A DATABASE WITH A USER having permissions to create databases.\n",
    "Follow instructions [here](http://wiki.sylfen.com/sql/)"
   ]
  },
  {
   "cell_type": "code",
   "execution_count": null,
   "id": "64ade099-1667-4ac8-a7dd-18af6b317dac",
   "metadata": {},
   "outputs": [],
   "source": [
    "conf.DB_PARAMETERS={\n",
    "    'host'     : \"localhost\",\n",
    "    'port'     : \"5432\",\n",
    "    'dbname'   : \"db_test\",\n",
    "    'user'     : \"test_user\",\n",
    "    'password' : \"test\"\n",
    "}\n",
    "\n",
    "conf.DB_TABLE  = 'realtimedata_test'"
   ]
  },
  {
   "cell_type": "markdown",
   "id": "a50bbe60-9a5e-4002-ad66-316f0f7bb974",
   "metadata": {},
   "source": [
    "The next step enables to create the adequate table if it does not exist in your postgressql database."
   ]
  },
  {
   "cell_type": "code",
   "execution_count": null,
   "id": "f5cffd38-ec0e-4497-ac57-024f05320c6d",
   "metadata": {},
   "outputs": [],
   "source": [
    "from sylfenUtils.utils import DataBase\n",
    "DataBase().create_sql_table(conf.DB_PARAMETERS,conf.DB_TABLE)"
   ]
  },
  {
   "cell_type": "markdown",
   "id": "22ea60df-fb1d-48ad-b451-665514d87ada",
   "metadata": {},
   "source": [
    "Precise where the data will be stored on your machine, which timezone, how big the database will be and the logs folder."
   ]
  },
  {
   "cell_type": "code",
   "execution_count": null,
   "id": "dbba3ba8-9f36-4d05-bdf9-547a5ebd749c",
   "metadata": {},
   "outputs": [],
   "source": [
    "conf.TZ_RECORD = 'CET'## the timezone used to park the data\n",
    "conf.PARKING_TIME  = 60*10 #### how often (in seconds) the data should be parked from the buffer database(the database is then flushed)\n",
    "BASE_FOLDER = os.getenv('HOME')+'/dummy_project/'\n",
    "if not os.path.exists(BASE_FOLDER):os.mkdir(BASE_FOLDER)#create the folder it if does not exist\n",
    "conf.FOLDERPKL   = BASE_FOLDER + '/data_daily/' ### where the (daily)parked data will be stored\n",
    "if not os.path.exists(conf.FOLDERPKL):os.mkdir(conf.FOLDERPKL)#create the folder it if does not exist\n",
    "conf.LOG_FOLDER  = BASE_FOLDER + '/log/'\n",
    "if not os.path.exists(conf.LOG_FOLDER):os.mkdir(conf.LOG_FOLDER)#create the folder it if does not exist"
   ]
  },
  {
   "cell_type": "markdown",
   "id": "1b9e8d03-22ea-4d66-b124-f6411674cb44",
   "metadata": {},
   "source": [
    "Your conf in now ready and can be seen and used independenly. As long as your are not happy with your conf work on it before\n",
    "going to the next step."
   ]
  },
  {
   "cell_type": "code",
   "execution_count": null,
   "id": "5248e3b5-1f71-46cc-9536-4d0ff6bc4d0f",
   "metadata": {
    "tags": []
   },
   "outputs": [],
   "source": [
    "conf.dummy_df_plc"
   ]
  },
  {
   "cell_type": "markdown",
   "id": "da3b7961-1c10-4571-8d63-24094b99a3de",
   "metadata": {
    "jp-MarkdownHeadingCollapsed": true,
    "tags": []
   },
   "source": [
    "# 2. DUMP DATA \n",
    "You learn here how to istanciate your dumper to record data as daily parked format. "
   ]
  },
  {
   "cell_type": "markdown",
   "id": "c0d78151-d127-4065-ba88-223256cec1fc",
   "metadata": {
    "tags": []
   },
   "source": [
    "## 2.1 Create modbus devices, add them to your DUMPER which will record data as parked format\n",
    "Your first device is the dummy device whose ip adress, byte order, word order are known. You just need to enter \n",
    "- ip of the device\n",
    "- running port\n",
    "- the name of the device(you can choose any, this has no effect)\n",
    "- the plc dataframe *dfplc*\n",
    "- the modbus map \n",
    "- the words(*wo*) and bytes(*bo*) endianess. Only 'little' or 'big' can be used. \n",
    "- the frequence *freq* of acquisition in seconds. How often you want to fetch the data."
   ]
  },
  {
   "cell_type": "code",
   "execution_count": null,
   "id": "e6edb4e1-d395-4e70-ba4e-11df64f3035e",
   "metadata": {
    "tags": []
   },
   "outputs": [],
   "source": [
    "from sylfenUtils.comUtils import ModbusDevice\n",
    "dummy_device=ModbusDevice(ip='localhost',port=3580,device_name='dummy_device',\n",
    "    dfplc=conf.dummy_df_plc,modbus_map=conf.dummy_modbus_map,bo='big',wo='big',freq=2)"
   ]
  },
  {
   "cell_type": "markdown",
   "id": "d87f834a-163d-4e12-875e-db4c5bd9c44c",
   "metadata": {},
   "source": [
    "## 2.2 Start the SIMULATOR of the modbus device (optionnal)\n",
    "As we don't have the dummy device delivering data with the modbus protocole, we will create a simulator of the device based on the same modbus map and we will run the modbus server to serve data (random data). \n",
    "For your real project you can of course skip this step if the device is available on your network."
   ]
  },
  {
   "cell_type": "code",
   "execution_count": null,
   "id": "4bfb00cf-5dbe-402a-8cda-58426b4e1b5b",
   "metadata": {
    "tags": []
   },
   "outputs": [],
   "source": [
    "from sylfenUtils.Simulators import SimulatorModeBus\n",
    "dummy_simulator=SimulatorModeBus(port=dummy_device.port,modbus_map=dummy_device.modbus_map,bo=dummy_device.byte_order,wo=dummy_device.word_order)\n",
    "dummy_simulator.start()"
   ]
  },
  {
   "cell_type": "markdown",
   "id": "a57daed0-d014-474f-80b1-325945bab968",
   "metadata": {},
   "source": [
    "## 2.3 make sure you can connect to the device and COLLECT ALL THE DATA from your modbus device in real time. (not necessary in operation)"
   ]
  },
  {
   "cell_type": "markdown",
   "id": "729daa71-ce12-4dd7-a977-04b9f08f2a9c",
   "metadata": {},
   "source": [
    "If you don't know the endianness you can instanciate your device anyway and yse the function **quick_modbus_single_register_decoder** with one register to guess the endianess."
   ]
  },
  {
   "cell_type": "code",
   "execution_count": null,
   "id": "4a5e2b4d-3406-4713-a2bc-f1032984cb34",
   "metadata": {
    "tags": []
   },
   "outputs": [],
   "source": [
    "dummy_device.connectDevice()\n",
    "dummy_device.quick_modbus_single_register_decoder(10,2,'float32',unit=1);"
   ]
  },
  {
   "cell_type": "markdown",
   "id": "0a6aaab4-6fdc-4d33-86a4-cef1bd5fbae8",
   "metadata": {},
   "source": [
    "here we see that the only reasonable value is for the combination byte_order='big' and words_order='little because all the others have extrem values. If this is still not unambiguous after one call. You can call it a second time. "
   ]
  },
  {
   "cell_type": "code",
   "execution_count": null,
   "id": "d0449628-8e08-4a1b-89ee-b12f0f5956c5",
   "metadata": {
    "tags": []
   },
   "outputs": [],
   "source": [
    "dummy_device.quick_modbus_single_register_decoder(10,2,'float32',unit=1);"
   ]
  },
  {
   "cell_type": "markdown",
   "id": "e9afee9d-acb7-4236-aea0-0847da31f15f",
   "metadata": {},
   "source": [
    "now we can see that all the others combinations have their values changed too radically. So it is very very likely that the correct encoding is 'big', 'big'."
   ]
  },
  {
   "cell_type": "code",
   "execution_count": null,
   "id": "7fe414b8-adb1-451f-a638-46b9ae518965",
   "metadata": {
    "tags": []
   },
   "outputs": [],
   "source": [
    "tags=dummy_device.dfplc.index.to_list()\n",
    "dummy_device.connectDevice()\n",
    "data=dummy_device.collectData('CET',tags)## do not forget to precise the time zome\n",
    "data"
   ]
  },
  {
   "cell_type": "markdown",
   "id": "060639ae-f906-4406-887a-f7ff1ba6825f",
   "metadata": {
    "tags": []
   },
   "source": [
    "## 2.4 Check that you can INSERT DATA INTO THE DATABASE (not necessary in operation)\n",
    "The database serves as a buffer for the realtime acquisition while simultaneously having the possibility to access the data. \n",
    "Check that the data were correclty inserted by retrieving all the data of your database."
   ]
  },
  {
   "cell_type": "code",
   "execution_count": null,
   "id": "f311a857-8fc5-46d0-bf3a-acb54d7a476e",
   "metadata": {
    "tags": []
   },
   "outputs": [],
   "source": [
    "dummy_device.insert_intodb(conf.DB_PARAMETERS,conf.DB_TABLE,'CET',tags)"
   ]
  },
  {
   "cell_type": "markdown",
   "id": "56c24ef3-f490-406d-a4cc-5f81ea995cf7",
   "metadata": {
    "tags": []
   },
   "source": [
    "Check that your database was filled with the data"
   ]
  },
  {
   "cell_type": "code",
   "execution_count": null,
   "id": "9a2b5a15-f598-4806-a250-c665ed15a8e2",
   "metadata": {
    "tags": []
   },
   "outputs": [],
   "source": [
    "def quick_check_db():\n",
    "    import psycopg2\n",
    "    connReq = ''.join([k + \"=\" + v + \" \" for k,v in conf.DB_PARAMETERS.items()])\n",
    "    dbconn = psycopg2.connect(connReq)\n",
    "    sqlQ =\"select * from \" + conf.DB_TABLE +\" order by timestampz asc;\"\n",
    "    df = pd.read_sql_query(sqlQ,dbconn,parse_dates=['timestampz'])\n",
    "    print(df)\n",
    "quick_check_db()"
   ]
  },
  {
   "cell_type": "markdown",
   "id": "2642278b-b1eb-4714-9963-89d0fcaee1c5",
   "metadata": {
    "tags": []
   },
   "source": [
    "## 2.5 Instanciate your DUMPER\n",
    "With your devices you are ready to start your dumper. You need to precise : \n",
    "- a dictionnary of the devices \n",
    "- the folder where the data will be stored.\n",
    "- the parameters of the database \n",
    "- the time window of the database in seconds.\n",
    "- the name of the table in the database *dbTable*\n",
    "- the timezone used to record the data *tz_record*(by default 'CET')\n",
    "- the filename of the log file(by default None)"
   ]
  },
  {
   "cell_type": "code",
   "execution_count": null,
   "id": "3e644c25-510e-4b93-93bf-b0d8339df005",
   "metadata": {
    "tags": []
   },
   "outputs": [],
   "source": [
    "from sylfenUtils.comUtils import SuperDumper_daily\n",
    "DEVICES = {\n",
    "    'dummy_device':dummy_device,\n",
    "}\n",
    "log_file_name=conf.LOG_FOLDER+'/dumper.log' ## give a name to your logger. \n",
    "log_file_name=None ## if you want either to have the information in the console use None.\n",
    "dumper=SuperDumper_daily(DEVICES,conf.FOLDERPKL,conf.DB_PARAMETERS,conf.PARKING_TIME,\n",
    "    dbTable=conf.DB_TABLE,tz_record=conf.TZ_RECORD,log_file=log_file_name)"
   ]
  },
  {
   "cell_type": "markdown",
   "id": "f05a7230-06af-402f-927d-9bbf1016c971",
   "metadata": {},
   "source": [
    "## 2.6 Park the database first before starting to dump data in case the database is already big. "
   ]
  },
  {
   "cell_type": "code",
   "execution_count": null,
   "id": "9f9ccee9-7468-4078-b92f-4218691a2f1b",
   "metadata": {
    "tags": []
   },
   "outputs": [],
   "source": [
    "dumper.park_database()"
   ]
  },
  {
   "cell_type": "markdown",
   "id": "86164433-40cd-43b9-a8a0-c53396fb2aec",
   "metadata": {},
   "source": [
    "## 2.7 start to dump data."
   ]
  },
  {
   "cell_type": "code",
   "execution_count": null,
   "id": "e4b5eedc-7495-47dd-8ef7-f1f150df2a74",
   "metadata": {
    "tags": []
   },
   "outputs": [],
   "source": [
    "dumper.start_dumping()"
   ]
  },
  {
   "cell_type": "markdown",
   "id": "c597b732-5dc3-4e71-aecd-7b7f7033e4e7",
   "metadata": {
    "tags": []
   },
   "source": [
    "check that it is correctly feeding the database"
   ]
  },
  {
   "cell_type": "code",
   "execution_count": null,
   "id": "a06f0593-7e8b-4b13-9ee1-83f7415982be",
   "metadata": {
    "tags": []
   },
   "outputs": [],
   "source": [
    "quick_check_db()"
   ]
  },
  {
   "cell_type": "markdown",
   "id": "a57978d1-abf4-4b0f-bfb6-51940d9cce5e",
   "metadata": {
    "tags": []
   },
   "source": [
    "Remarks:\n",
    "- opcua device are also available\n",
    "- if you want to create a new device class that works neither with modbus nor with OPCUA protocole you can create a children class of comUtils.Device. Just make sure : \n",
    "    - to rewrite a function **collectData** that collect all the data from the plc dataframe of the device.\n",
    "    - a function **connectDevice** that connects to the device.\n"
   ]
  },
  {
   "cell_type": "markdown",
   "id": "0ddc0ef8-2ecd-4c15-9807-19f0eb265d2c",
   "metadata": {
    "jp-MarkdownHeadingCollapsed": true,
    "tags": []
   },
   "source": [
    "# 3. READ THE DATA in REAL TIME\n",
    "Now you can load your parked data to process and visualize them."
   ]
  },
  {
   "cell_type": "markdown",
   "id": "21866b41-aadb-4a0c-8e19-501a7db356b3",
   "metadata": {
    "tags": []
   },
   "source": [
    "## 3.1 Instanciate the VISUALISER object\n",
    "you need to enter almost all the same parameters as for the dumper. You may wonder and find it unconvenient because we could have included this object in the dumper which in that case you won't have to recreate an other object. The reasons for not having proceeded this way are :\n",
    "- dissociation of the objects so that you can visualise data from a folder even if the dumper is not running or not working. Loading historical data is possible without the dumper. \n",
    "- it simplifies the architecture of the code. Modularity brings complexity but improve order, robustness, maintainability and readability.   "
   ]
  },
  {
   "cell_type": "code",
   "execution_count": null,
   "id": "840702c3-3562-47e0-96cd-15e34f85d3b3",
   "metadata": {
    "tags": []
   },
   "outputs": [],
   "source": [
    "from sylfenUtils.comUtils import VisualisationMaster_daily\n",
    "cfg=VisualisationMaster_daily(\n",
    "    conf.FOLDERPKL,\n",
    "    conf.DB_PARAMETERS,\n",
    "    conf.PARKING_TIME,\n",
    "    dbTable=conf.DB_TABLE,\n",
    "    tz_record=conf.TZ_RECORD\n",
    ")"
   ]
  },
  {
   "cell_type": "markdown",
   "id": "c39de576-d596-498c-bb5f-1dcc461981c8",
   "metadata": {
    "tags": []
   },
   "source": [
    "There is now a SMALL SHORTCOMING HERE OF THE LIBRARY. The visualiser needs the whole plc dataframe with all the tags of all your devices. \n",
    "You should not need to use the dumper to instanciate the visualiser. \n",
    "It would be better to concatenate the plc_dataframe of all your devices in one plc_dataframe."
   ]
  },
  {
   "cell_type": "code",
   "execution_count": null,
   "id": "df9c3ec9-e454-458b-b28d-127f76224b0d",
   "metadata": {
    "tags": []
   },
   "outputs": [],
   "source": [
    "cfg.dfplc=dumper.dfplc ### required to use the function getTagsTU\n",
    "cfg.listUnits=list(cfg.dfplc['UNITE'].unique())"
   ]
  },
  {
   "cell_type": "markdown",
   "id": "da7ae671-5496-454a-be03-bf6186fed642",
   "metadata": {
    "tags": []
   },
   "source": [
    "## 3.2 Grab you tags \n",
    "if your plc dataframe is big you may need not remember all the tags ny heart and you would like to grab the tags with key expressions. \n",
    "Use the fonction **getTagsTU** of the object to look for tags using a regular expressions. \n",
    "For example we want to get all the pressure and temperature sensors that works with water(H2O) in our system."
   ]
  },
  {
   "cell_type": "code",
   "execution_count": null,
   "id": "3814ddd0-ea7b-4a13-98dd-7cc4bdd4b41e",
   "metadata": {
    "tags": []
   },
   "outputs": [],
   "source": [
    "tags=cfg.getTagsTU('[PT]T.*H2O')\n",
    "tags"
   ]
  },
  {
   "cell_type": "markdown",
   "id": "56e08d6b-a188-487c-ad76-a69aea6e13d4",
   "metadata": {
    "jupyter": {
     "outputs_hidden": true
    },
    "tags": []
   },
   "source": [
    "## 3.3 LOAD the data precising the resampling method and resampling time. Here we want the last 2 hours\n",
    "Of course you can get the data from anytime to anytime given t0,t1 as timestamps."
   ]
  },
  {
   "cell_type": "code",
   "execution_count": null,
   "id": "1718557a-7d19-4c28-b035-db3beaced1c5",
   "metadata": {
    "tags": []
   },
   "outputs": [],
   "source": [
    "t1=pd.Timestamp.now(tz='CET')\n",
    "t0=t1-pd.Timedelta(hours=2)\n",
    "df=cfg.loadtags_period(t0,t1,tags,rs='2s',rsMethod='mean')\n",
    "df"
   ]
  },
  {
   "cell_type": "markdown",
   "id": "9a5311a9-aa4b-49a5-894d-d9e12728ebb7",
   "metadata": {
    "tags": []
   },
   "source": [
    "## 3.4 PLOT the data with a standard multi unit scale graph\n",
    "You can of course also plot the data with your own function. The advantages of this function is that it can plot the data using different y-scales."
   ]
  },
  {
   "cell_type": "code",
   "execution_count": null,
   "id": "22a09369-4e3a-4f11-940b-61f84d9fce4f",
   "metadata": {
    "tags": []
   },
   "outputs": [],
   "source": [
    "from sylfenUtils.utils import Graphics\n",
    "Graphics().multiUnitGraph(df).show()"
   ]
  },
  {
   "cell_type": "markdown",
   "id": "8877fe2e-25f4-446c-9146-a25fa4edc93d",
   "metadata": {
    "jp-MarkdownHeadingCollapsed": true,
    "tags": []
   },
   "source": [
    "# 4. DEPLOY THE WEB INTERFACE\n",
    "The interface enables other people(or you) to access the data in a convenient way from the web plateform."
   ]
  },
  {
   "cell_type": "markdown",
   "id": "e8b1d396-225f-4371-aabc-1a5d7174da1a",
   "metadata": {},
   "source": [
    "## 4.1 PREPARE the folder of your app\n",
    "For the application to work (with flask) it is needed to have a folder *templates/* and *static/* in the *root_folder*.\n",
    "\n",
    "Chose your root folder "
   ]
  },
  {
   "cell_type": "code",
   "execution_count": null,
   "id": "e5896a65-6ab2-4e79-930f-5193d978165b",
   "metadata": {
    "tags": []
   },
   "outputs": [],
   "source": [
    "BASE_FOLDER = os.getenv('HOME')+'/dummy_project/'\n",
    "root_folder=os.path.dirname(BASE_FOLDER)+'/dummy_app/'\n",
    "root_folder\n",
    "if not os.path.exists(root_folder):os.mkdir(root_folder)"
   ]
  },
  {
   "cell_type": "markdown",
   "id": "e7ed51f0-4187-4bc6-ad5e-0b525b8f54ef",
   "metadata": {},
   "source": [
    "Make a symbolic link of the folder *templates* of the sylfenUtils library into your root folder."
   ]
  },
  {
   "cell_type": "code",
   "execution_count": null,
   "id": "72a27970-b0e3-4661-b1ba-bfcf6db4cf9c",
   "metadata": {
    "tags": []
   },
   "outputs": [],
   "source": [
    "import subprocess as sp\n",
    "import sylfenUtils\n",
    "sylfenUtils_env_dir=os.path.dirname(sylfenUtils.__file__)\n",
    "templates_dir=sylfenUtils_env_dir + '/templates'\n",
    "templates_folder=root_folder + '/templates'\n",
    "if os.path.exists(templates_folder):os.remove(templates_folder)\n",
    "sp.run('ln -s '+templates_dir + ' ' + root_folder,shell=True)"
   ]
  },
  {
   "cell_type": "markdown",
   "id": "42754446-e49d-4d1d-a1cc-8f6a9848bc6c",
   "metadata": {},
   "source": [
    "Make a symbolic link of the folder *static/lib* into your root folder."
   ]
  },
  {
   "cell_type": "code",
   "execution_count": null,
   "id": "06cb4284-1459-4554-ac32-18d2167bae00",
   "metadata": {
    "tags": []
   },
   "outputs": [],
   "source": [
    "static_folder=root_folder+'/static/'\n",
    "if not os.path.exists(static_folder):os.mkdir(static_folder) #create folder if it does not exist\n",
    "lib_dir=sylfenUtils_env_dir + '/static/lib'\n",
    "lib_folder=static_folder + '/lib'\n",
    "if os.path.exists(lib_folder):os.remove(lib_folder)\n",
    "sp.run('ln -s ' + lib_dir + ' ' + static_folder,shell=True)"
   ]
  },
  {
   "cell_type": "markdown",
   "id": "283b0288-a8e9-4104-ae92-1c33aa5f4f06",
   "metadata": {},
   "source": [
    "## 4.2 Configure the app with some default settings."
   ]
  },
  {
   "cell_type": "code",
   "execution_count": null,
   "id": "595151a4-1778-4a9c-8708-010a1183ab5e",
   "metadata": {
    "tags": []
   },
   "outputs": [],
   "source": [
    "init_parameters={\n",
    "    'tags':cfg.getTagsTU('[PTF]T.*H2O'),\n",
    "    'fig_name':'temperatures, pressures, and mass flows',\n",
    "    'rs':'30s',\n",
    "    'time_window':str(2*60),\n",
    "    'delay_minutes':0,\n",
    "    'log_versions':None #you can enter the relative path of (in folder static) a .md file summarizing some evolution in your code.\n",
    "}"
   ]
  },
  {
   "cell_type": "markdown",
   "id": "79f47d4c-d694-4f4f-afff-c79b40265ddd",
   "metadata": {},
   "source": [
    "## 4.3 Instanciate the DASHBOARD"
   ]
  },
  {
   "cell_type": "code",
   "execution_count": null,
   "id": "8ae98545-ca81-44c3-ac97-2401538e1e3b",
   "metadata": {
    "tags": []
   },
   "outputs": [],
   "source": [
    "from sylfenUtils import dashboard\n",
    "APP_NAME='dummy_app'\n",
    "dash=dashboard.Dashboard(\n",
    "    cfg,\n",
    "    conf.LOG_FOLDER,\n",
    "    root_folder,\n",
    "    app_name=APP_NAME,\n",
    "    init_parameters=init_parameters,\n",
    "    plot_function=cfg.utils.multiUnitGraph, ## you can use your own function to display the data \n",
    "    version_dashboard='1.0')\n",
    "\n",
    "dash.helpmelink='' ### you can precise a url link on how to use the web interface\n",
    "dash.fig_wh=780### size of the figure"
   ]
  },
  {
   "cell_type": "markdown",
   "id": "0669142c-d0c2-4451-bb0f-a3b17a84947b",
   "metadata": {},
   "source": [
    "If you need to extend some functionnality you can do it here.\n",
    "For example you can ask the back end to print a text with front-end get '/example'"
   ]
  },
  {
   "cell_type": "code",
   "execution_count": null,
   "id": "a42d83e5-1b71-400b-9203-e3badf456396",
   "metadata": {
    "tags": []
   },
   "outputs": [],
   "source": [
    "@dash.app.route('/example', methods=['GET'])\n",
    "def example_extension():\n",
    "    print('this is a test')"
   ]
  },
  {
   "cell_type": "markdown",
   "id": "5da60b88-eb8f-490d-91de-912a20a716b9",
   "metadata": {
    "tags": []
   },
   "source": [
    "## 4.4 Start the app"
   ]
  },
  {
   "cell_type": "code",
   "execution_count": null,
   "id": "7f4beef3-9842-4844-8032-1624e8ac016e",
   "metadata": {
    "tags": []
   },
   "outputs": [],
   "source": [
    "port_app=30000\n",
    "dash.app.run(host='0.0.0.0',port=port_app,debug=False,use_reloader=False)\n",
    "url_app='localhost:'+str(port_app)+'/'+APP_NAME # debug and use_reloader as True can only be used in developpment work but not in production.\n",
    "print('your app is now available at :\\n',url_app)"
   ]
  },
  {
   "cell_type": "markdown",
   "id": "109e4242-32a7-460b-a9cc-0f9c1b30fb0d",
   "metadata": {},
   "source": [
    "- For for the app to be seen by others on your private network the url is : *your_private_ip_adress*>:*your_port_app*/*your_app_name*\n",
    "- to deploy it to the world, open the port of the app on your routeur and the url is : *your_public_ip_adress*>:*your_port_app*/*your_app_name*\n",
    "\n",
    "However the library Flask which is serving the website is not very stable. It is better to use wsgi and gunicorn to run the app and start the service with systemctl on a linux server. Then use ngnix(or apache) to make the redirection via a myapp.conf file in the sites_enabled of the nginx folder. You can use your domain name or subdomain name directly them so that the url becomes :\n",
    "www.*your_domain_name*/*your_app_name*"
   ]
  }
 ],
 "metadata": {
  "kernelspec": {
   "display_name": "sylfenutils",
   "language": "python",
   "name": "sylfenutils"
  },
  "language_info": {
   "codemirror_mode": {
    "name": "ipython",
    "version": 3
   },
   "file_extension": ".py",
   "mimetype": "text/x-python",
   "name": "python",
   "nbconvert_exporter": "python",
   "pygments_lexer": "ipython3",
   "version": "3.8.10"
  }
 },
 "nbformat": 4,
 "nbformat_minor": 5
}
