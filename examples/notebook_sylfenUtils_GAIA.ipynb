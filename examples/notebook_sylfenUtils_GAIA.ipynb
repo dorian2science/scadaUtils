{
 "cells": [
  {
   "cell_type": "markdown",
   "id": "d9b75a15-7392-4fd5-916f-8840695268b6",
   "metadata": {
    "tags": []
   },
   "source": [
    "# 0. Installation and import the libraries"
   ]
  },
  {
   "cell_type": "markdown",
   "id": "74848107-3af9-4218-bb17-e6d1e2d0a9ef",
   "metadata": {},
   "source": [
    "FIRST THING FIRST. \n",
    "\n",
    "Install sylfenUtils==1.18.1 in a virtual environment.\n",
    "\n",
    "In order to run your jupyter-notebook with your virtual environment follow instructions [here](https://queirozf.com/entries/jupyter-kernels-how-to-add-change-remove).\n",
    "Then import the libraries."
   ]
  },
  {
   "cell_type": "code",
   "execution_count": null,
   "id": "73f57c21-c608-44ac-8e4f-62103b2daafb",
   "metadata": {
    "jupyter": {
     "source_hidden": true
    }
   },
   "outputs": [],
   "source": [
    "from sylfenUtils import comUtils\n",
    "import os,sys,re, pandas as pd"
   ]
  },
  {
   "cell_type": "markdown",
   "id": "a3367b63-3865-437d-af5c-04fda8b7ffab",
   "metadata": {},
   "source": [
    "Check that you have installed the right version of sylfenUtils."
   ]
  },
  {
   "cell_type": "markdown",
   "id": "f2625305-c0d3-4c8b-b439-2d8e906e6631",
   "metadata": {
    "tags": []
   },
   "source": [
    "# 1.Build the configuration of your project using the Conf_generator\n",
    "For convenience put your configuration work in a conf.py file which should serve as an object with all\n",
    "the important information."
   ]
  },
  {
   "cell_type": "markdown",
   "id": "ec8db61b-911b-48ac-8e8a-e6f94d7d958d",
   "metadata": {},
   "source": [
    "Let's say you have a modbus table of a device in a \"dummy_devices.csv\" file and a modbus_map  in a \"dummy_modbbus_devices.ods\". Read it with pandas without forgetting to adjust the path of the file depending where it is located on your device. "
   ]
  },
  {
   "cell_type": "code",
   "execution_count": null,
   "id": "979eb754",
   "metadata": {},
   "outputs": [],
   "source": [
    "dummy_df_devices = pd.read_csv('data/dummy_devices.csv', index_col=0).iloc[[0]]\n",
    "dummy_df_devices"
   ]
  },
  {
   "cell_type": "code",
   "execution_count": null,
   "id": "37227a81",
   "metadata": {},
   "outputs": [],
   "source": [
    "dummy_modbus_map = pd.read_excel('data/dummy_modbus_devices.ods', sheet_name = 'dummy1', index_col = 0)\n",
    "dummy_modbus_map"
   ]
  },
  {
   "cell_type": "markdown",
   "id": "2a40ddbb",
   "metadata": {},
   "source": [
    "# 2. INSTANCIATE A GAIA OBJECT"
   ]
  },
  {
   "cell_type": "code",
   "execution_count": null,
   "id": "6598c76f-a220-4a2d-af6a-87b01771adda",
   "metadata": {
    "jupyter": {
     "source_hidden": true
    },
    "scrolled": false,
    "tags": []
   },
   "outputs": [],
   "source": [
    "def generate_dummy_conf():\n",
    "    return {\n",
    "        'df_devices': dummy_df_devices,\n",
    "        'modbus_maps' : {'dummy1':dummy_modbus_map}\n",
    "    }"
   ]
  },
  {
   "cell_type": "code",
   "execution_count": null,
   "id": "996da0df",
   "metadata": {},
   "outputs": [],
   "source": [
    "from sylfenUtils import GAIA\n",
    "\n",
    "dummy_gaia=GAIA.GAIA(project_name='dummy_project_gaia', \n",
    "                     function_generator=generate_dummy_conf, \n",
    "                     root_folder=None, realtime=True)"
   ]
  },
  {
   "cell_type": "markdown",
   "id": "41879897-6724-4b72-bd1c-7bfa003d962b",
   "metadata": {},
   "source": [
    "It has created a folder in the home of the user executing the script with following content : "
   ]
  },
  {
   "cell_type": "markdown",
   "id": "0c11bbfb-98b5-4081-9d52-1fe94c6eb70b",
   "metadata": {},
   "source": [
    "- **dummy_project_daily** would contain(by default) the data that are going to be generated => dummy_conf.FOLDERPKL\n",
    "- **conf_dummy_project.pkl** is the object containing all the important information of the project(the configuration) saved as dictionnary. The keys are then attributes of dummy_conf object.  \n",
    "- **log** : dummy_conf.LOG_FOLDER which is the folder where the logs are going to be stored (by default)\n",
    "- **parameters.conf** : is a standard file with default settings that you are able to to modify.  \n",
    "\n",
    "Your configuration is done now. \n",
    "\n",
    "**Note**: You can also create your own class to generate the configuration that inheritates from Conf_generator class."
   ]
  },
  {
   "cell_type": "markdown",
   "id": "4277b073-b0b6-4127-ba04-35b3f0800181",
   "metadata": {},
   "source": [
    "## 1.2 Modify default settings if you need it"
   ]
  },
  {
   "cell_type": "markdown",
   "id": "ce620f3a-ac74-48a5-9f3e-0af87cf830cb",
   "metadata": {},
   "source": [
    "As said in previous section you can change the default settings at any time.\n",
    "For the moment the content of the **parameters.conf** file is :  "
   ]
  },
  {
   "cell_type": "code",
   "execution_count": null,
   "id": "c29b4d39-eb52-4326-b9f5-8f168163428b",
   "metadata": {
    "jupyter": {
     "source_hidden": true
    },
    "scrolled": true,
    "tags": []
   },
   "outputs": [],
   "source": [
    "with open('/home/marc-a/dummy_project_gaia_user/parameters.conf','r') as f : \n",
    "    for l in f.readlines():\n",
    "        print(l)"
   ]
  },
  {
   "cell_type": "markdown",
   "id": "22ea60df-fb1d-48ad-b451-665514d87ada",
   "metadata": {},
   "source": [
    "Explanation of the parameters:\n",
    "- **database parameters**:For the data acquisition you NEED TO INSTALL POSTGRESSQL and CREATE A DATABASE WITH A USER having permissions to create databases. Follow instructions [here](http://wiki.sylfen.com/sql/)\n",
    "  - db_host : host of the postgres database\n",
    "  - db_port : port of the postgres database\n",
    "  - db_name : name of the database.\n",
    "  - db_user : valid postgressql user with\n",
    "  - db_password : db_user password to connect to the database\n",
    "  - DB_TABLE : database table where the data are going to be stored with timestamp,tag,value columns.\n",
    "- **other shared variables**:  \n",
    "  - PARKING_TIME:the size of the database in seconds until it is emptied.\n",
    "  - TZ_RECORD: the timezone used to park the data. By default it is CET whereas it would be better to have UTC. But for people living in CET timezone it is easier to open a day-folder with all the hours  of the current day(and not having to open 2 folders for that).\n",
    "  - SIMULATOR:whether the simulator should be used instead of connecting to the real devices(convenient when working offline or not on the private network where the devices are available).\n",
    "  - FOLDERPKL:path of the folder where the daily parked data are stored. If *default* the data are found in dummy_conf.project_folder.\n",
    "  - LOG_FOLDER:path of the folder where the logs are found.   \n",
    "Precise where the data will be stored on your machine, which timezone, how big the database will be and the logs folder.\n",
    "- **dashboard specific variables**\n",
    "  - TEST_ENV:if True the *dashboard.py* file will be run on port 15000 from flask(not wsgi production environment).\n",
    "  - TMAX: works only if TEST_ENV is true. The end datetime of datetimepicker of the the dashboard.  \n",
    "\n",
    "These parameters are then accessible from any instance of Conf_generator (or your own children class) as soon as with a name of the project. As such all the other higher-level objects will know these information."
   ]
  },
  {
   "cell_type": "markdown",
   "id": "da3b7961-1c10-4571-8d63-24094b99a3de",
   "metadata": {
    "tags": []
   },
   "source": [
    "# 2. DUMP DATA "
   ]
  },
  {
   "cell_type": "markdown",
   "id": "d87f834a-163d-4e12-875e-db4c5bd9c44c",
   "metadata": {},
   "source": [
    "## 2.1 Start the SIMULATOR of the modbus device (optionnal)\n",
    "As we don't have the dummy device delivering data with the modbus protocole, we will create a simulator of the device based on the same modbus map and we will run the modbus server to serve data (random data). \n",
    "For your real project you can of course skip this step if the device is available on your network."
   ]
  },
  {
   "cell_type": "code",
   "execution_count": null,
   "id": "4bfb00cf-5dbe-402a-8cda-58426b4e1b5b",
   "metadata": {
    "tags": []
   },
   "outputs": [],
   "source": [
    "from sylfenUtils.Simulators import SimulatorModeBus\n",
    "\n",
    "dummy_simulator = SimulatorModeBus(\n",
    "   port = dummy_gaia.devices['dummy1'].port,\n",
    "#    port = 6500,\n",
    "    modbus_map = dummy_gaia.devices['dummy1'].modbus_map,\n",
    "    simulator_name = 'dummy_gaia_simulator',\n",
    "    bo = dummy_gaia.devices['dummy1'].byte_order,\n",
    "    wo = dummy_gaia.devices['dummy1'].word_order)\n",
    "\n",
    "dummy_simulator.start()"
   ]
  },
  {
   "cell_type": "code",
   "execution_count": null,
   "id": "12fe7535",
   "metadata": {},
   "outputs": [],
   "source": [
    "# Start dumping data\n",
    "# param bool park_on_time: if True, it will wait for the parking to start at a round time.\n",
    "dummy_gaia.start_dumping(park_on_time=False)"
   ]
  },
  {
   "cell_type": "code",
   "execution_count": null,
   "id": "529837e0",
   "metadata": {},
   "outputs": [],
   "source": [
    "dummy_gaia.read_db()"
   ]
  },
  {
   "cell_type": "code",
   "execution_count": null,
   "id": "6cbc784a",
   "metadata": {},
   "outputs": [],
   "source": [
    "dummy_gaia.stop_dumping()"
   ]
  },
  {
   "cell_type": "code",
   "execution_count": null,
   "id": "022098bd",
   "metadata": {},
   "outputs": [],
   "source": [
    "dummy_gaia.run_GUI()"
   ]
  },
  {
   "cell_type": "markdown",
   "id": "109e4242-32a7-460b-a9cc-0f9c1b30fb0d",
   "metadata": {},
   "source": [
    "- to deploy it to the world, open the port of the app on your routeur and use host='0.0.0.0'\n",
    "\n",
    "As Flask says it is not a reliable as a production environment. It is better to use wsgi and gunicorn to run the app.\n",
    "- more convenient is to control the process with with **systemctl** on a Linux server. \n",
    "- Then use **nginx**(or apache) to make the redirection via a reverse proxy configured in a <myapp>.conf file in the nginx folders *sites_enabled* and *sites-available* to be able to map your domain name or subdomain name to the app. A guide is to be found [here](https://github.com/dorianSylfen/smallpower)."
   ]
  },
  {
   "cell_type": "code",
   "execution_count": null,
   "id": "fda01b9c",
   "metadata": {},
   "outputs": [],
   "source": []
  }
 ],
 "metadata": {
  "kernelspec": {
   "display_name": "test-venv",
   "language": "python",
   "name": "test-venv"
  },
  "language_info": {
   "codemirror_mode": {
    "name": "ipython",
    "version": 3
   },
   "file_extension": ".py",
   "mimetype": "text/x-python",
   "name": "python",
   "nbconvert_exporter": "python",
   "pygments_lexer": "ipython3",
   "version": "3.10.6"
  }
 },
 "nbformat": 4,
 "nbformat_minor": 5
}
