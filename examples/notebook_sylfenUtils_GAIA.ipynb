{
 "cells": [
  {
   "cell_type": "markdown",
   "id": "d9b75a15-7392-4fd5-916f-8840695268b6",
   "metadata": {
    "tags": []
   },
   "source": [
    "# 0. Installation and import the libraries"
   ]
  },
  {
   "cell_type": "markdown",
   "id": "74848107-3af9-4218-bb17-e6d1e2d0a9ef",
   "metadata": {},
   "source": [
    "FIRST THING FIRST. \n",
    "\n",
    "Install sylfenUtils==1.18.1 in a virtual environment.\n",
    "\n",
    "In order to run your jupyter-notebook with your virtual environment follow instructions [here](https://queirozf.com/entries/jupyter-kernels-how-to-add-change-remove).\n",
    "Then import the libraries."
   ]
  },
  {
   "cell_type": "code",
<<<<<<< HEAD
   "execution_count": 2,
   "id": "73f57c21-c608-44ac-8e4f-62103b2daafb",
   "metadata": {
    "tags": []
=======
   "execution_count": null,
   "id": "73f57c21-c608-44ac-8e4f-62103b2daafb",
   "metadata": {
    "jupyter": {
     "source_hidden": true
    }
>>>>>>> 1.18.1
   },
   "outputs": [],
   "source": [
    "from sylfenUtils import comUtils\n",
    "import os,sys,re, pandas as pd"
   ]
  },
  {
   "cell_type": "markdown",
   "id": "a3367b63-3865-437d-af5c-04fda8b7ffab",
   "metadata": {},
   "source": [
    "Check that you have installed the right version of sylfenUtils."
   ]
  },
  {
   "cell_type": "markdown",
   "id": "f2625305-c0d3-4c8b-b439-2d8e906e6631",
   "metadata": {
    "tags": []
   },
   "source": [
    "# 1.Build the configuration of your project using the Conf_generator\n",
    "For convenience put your configuration work in a conf.py file which should serve as an object with all\n",
    "the important information."
   ]
  },
  {
   "cell_type": "markdown",
   "id": "ec8db61b-911b-48ac-8e8a-e6f94d7d958d",
   "metadata": {},
   "source": [
    "Let's say you have a modbus table of a device in a \"dummy_devices.csv\" file and a modbus_map  in a \"dummy_modbbus_devices.ods\". Read it with pandas without forgetting to adjust the path of the file depending where it is located on your device. "
   ]
  },
  {
   "cell_type": "code",
<<<<<<< HEAD
   "execution_count": 3,
   "id": "881dc713",
   "metadata": {},
   "outputs": [
    {
     "data": {
      "text/html": [
       "<div>\n",
       "<style scoped>\n",
       "    .dataframe tbody tr th:only-of-type {\n",
       "        vertical-align: middle;\n",
       "    }\n",
       "\n",
       "    .dataframe tbody tr th {\n",
       "        vertical-align: top;\n",
       "    }\n",
       "\n",
       "    .dataframe thead th {\n",
       "        text-align: right;\n",
       "    }\n",
       "</style>\n",
       "<table border=\"1\" class=\"dataframe\">\n",
       "  <thead>\n",
       "    <tr style=\"text-align: right;\">\n",
       "      <th></th>\n",
       "      <th>protocole</th>\n",
       "      <th>IP</th>\n",
       "      <th>byte_order</th>\n",
       "      <th>word_order</th>\n",
       "      <th>port</th>\n",
       "      <th>statut</th>\n",
       "    </tr>\n",
       "    <tr>\n",
       "      <th>device</th>\n",
       "      <th></th>\n",
       "      <th></th>\n",
       "      <th></th>\n",
       "      <th></th>\n",
       "      <th></th>\n",
       "      <th></th>\n",
       "    </tr>\n",
       "  </thead>\n",
       "  <tbody>\n",
       "    <tr>\n",
       "      <th>dummy1</th>\n",
       "      <td>modbus</td>\n",
       "      <td>localhost</td>\n",
       "      <td>big</td>\n",
       "      <td>big</td>\n",
       "      <td>3502</td>\n",
       "      <td>actif</td>\n",
       "    </tr>\n",
       "  </tbody>\n",
       "</table>\n",
       "</div>"
      ],
      "text/plain": [
       "       protocole         IP byte_order word_order  port statut\n",
       "device                                                        \n",
       "dummy1    modbus  localhost        big        big  3502  actif"
      ]
     },
     "execution_count": 3,
     "metadata": {},
     "output_type": "execute_result"
    }
   ],
=======
   "execution_count": null,
   "id": "881dc713",
   "metadata": {},
   "outputs": [],
>>>>>>> 1.18.1
   "source": [
    "dummy_df_devices = pd.read_csv('data/dummy_devices.csv', index_col=0).iloc[[0]]\n",
    "dummy_df_devices"
   ]
  },
  {
   "cell_type": "code",
<<<<<<< HEAD
   "execution_count": 4,
   "id": "37227a81",
   "metadata": {},
   "outputs": [
    {
     "data": {
      "text/html": [
       "<div>\n",
       "<style scoped>\n",
       "    .dataframe tbody tr th:only-of-type {\n",
       "        vertical-align: middle;\n",
       "    }\n",
       "\n",
       "    .dataframe tbody tr th {\n",
       "        vertical-align: top;\n",
       "    }\n",
       "\n",
       "    .dataframe thead th {\n",
       "        text-align: right;\n",
       "    }\n",
       "</style>\n",
       "<table border=\"1\" class=\"dataframe\">\n",
       "  <thead>\n",
       "    <tr style=\"text-align: right;\">\n",
       "      <th></th>\n",
       "      <th>description</th>\n",
       "      <th>scale</th>\n",
       "      <th>unit</th>\n",
       "      <th>type</th>\n",
       "      <th>intaddress</th>\n",
       "      <th>size(mots)</th>\n",
       "      <th>slave_unit</th>\n",
       "      <th>frequency</th>\n",
       "    </tr>\n",
       "    <tr>\n",
       "      <th>tag</th>\n",
       "      <th></th>\n",
       "      <th></th>\n",
       "      <th></th>\n",
       "      <th></th>\n",
       "      <th></th>\n",
       "      <th></th>\n",
       "      <th></th>\n",
       "      <th></th>\n",
       "    </tr>\n",
       "  </thead>\n",
       "  <tbody>\n",
       "    <tr>\n",
       "      <th>PT_L5_H2O.HM05</th>\n",
       "      <td>pressure water line 5</td>\n",
       "      <td>10</td>\n",
       "      <td>mbar</td>\n",
       "      <td>float32</td>\n",
       "      <td>10</td>\n",
       "      <td>2</td>\n",
       "      <td>1</td>\n",
       "      <td>2</td>\n",
       "    </tr>\n",
       "    <tr>\n",
       "      <th>TT_L5_H2O.HM05</th>\n",
       "      <td>Temperature of water exchanger line 5</td>\n",
       "      <td>100</td>\n",
       "      <td>C</td>\n",
       "      <td>int32</td>\n",
       "      <td>26</td>\n",
       "      <td>2</td>\n",
       "      <td>1</td>\n",
       "      <td>2</td>\n",
       "    </tr>\n",
       "    <tr>\n",
       "      <th>PT_L7_H2O.HM05</th>\n",
       "      <td>pressure water line 7</td>\n",
       "      <td>100</td>\n",
       "      <td>mbar</td>\n",
       "      <td>float32</td>\n",
       "      <td>32</td>\n",
       "      <td>2</td>\n",
       "      <td>1</td>\n",
       "      <td>5</td>\n",
       "    </tr>\n",
       "    <tr>\n",
       "      <th>PT_L6_N2.HM05</th>\n",
       "      <td>pressure n2 line 6</td>\n",
       "      <td>10</td>\n",
       "      <td>mbar</td>\n",
       "      <td>float32</td>\n",
       "      <td>34</td>\n",
       "      <td>2</td>\n",
       "      <td>2</td>\n",
       "      <td>5</td>\n",
       "    </tr>\n",
       "    <tr>\n",
       "      <th>FT_L6_N2.HM05</th>\n",
       "      <td>Debit N2</td>\n",
       "      <td>10</td>\n",
       "      <td>g/s</td>\n",
       "      <td>float32</td>\n",
       "      <td>36</td>\n",
       "      <td>2</td>\n",
       "      <td>2</td>\n",
       "      <td>10</td>\n",
       "    </tr>\n",
       "    <tr>\n",
       "      <th>FT_L12_H2.HM05</th>\n",
       "      <td>debit H2</td>\n",
       "      <td>100</td>\n",
       "      <td>g/s</td>\n",
       "      <td>float32</td>\n",
       "      <td>68</td>\n",
       "      <td>2</td>\n",
       "      <td>1</td>\n",
       "      <td>10</td>\n",
       "    </tr>\n",
       "    <tr>\n",
       "      <th>V_C_TIME.CN</th>\n",
       "      <td>temps de fonctionnement</td>\n",
       "      <td>100</td>\n",
       "      <td>h</td>\n",
       "      <td>int16</td>\n",
       "      <td>70</td>\n",
       "      <td>1</td>\n",
       "      <td>1</td>\n",
       "      <td>60</td>\n",
       "    </tr>\n",
       "  </tbody>\n",
       "</table>\n",
       "</div>"
      ],
      "text/plain": [
       "                                          description  scale  unit     type  \\\n",
       "tag                                                                           \n",
       "PT_L5_H2O.HM05                  pressure water line 5     10  mbar  float32   \n",
       "TT_L5_H2O.HM05  Temperature of water exchanger line 5    100     C    int32   \n",
       "PT_L7_H2O.HM05                  pressure water line 7    100  mbar  float32   \n",
       "PT_L6_N2.HM05                      pressure n2 line 6     10  mbar  float32   \n",
       "FT_L6_N2.HM05                                Debit N2     10   g/s  float32   \n",
       "FT_L12_H2.HM05                               debit H2    100   g/s  float32   \n",
       "V_C_TIME.CN                   temps de fonctionnement    100     h    int16   \n",
       "\n",
       "                intaddress  size(mots)  slave_unit  frequency  \n",
       "tag                                                            \n",
       "PT_L5_H2O.HM05          10           2           1          2  \n",
       "TT_L5_H2O.HM05          26           2           1          2  \n",
       "PT_L7_H2O.HM05          32           2           1          5  \n",
       "PT_L6_N2.HM05           34           2           2          5  \n",
       "FT_L6_N2.HM05           36           2           2         10  \n",
       "FT_L12_H2.HM05          68           2           1         10  \n",
       "V_C_TIME.CN             70           1           1         60  "
      ]
     },
     "execution_count": 4,
     "metadata": {},
     "output_type": "execute_result"
    }
   ],
=======
   "execution_count": null,
   "id": "37227a81",
   "metadata": {},
   "outputs": [],
>>>>>>> 1.18.1
   "source": [
    "dummy_modbus_map = pd.read_excel('data/dummy_modbus_devices.ods', sheet_name = 'dummy1', index_col = 0)\n",
    "dummy_modbus_map"
   ]
  },
  {
   "cell_type": "markdown",
   "id": "74e539d2",
   "metadata": {},
   "source": [
    "# 2. INSTANCIATE A GAIA OBJECT"
   ]
  },
  {
   "cell_type": "code",
<<<<<<< HEAD
   "execution_count": 5,
=======
   "execution_count": null,
>>>>>>> 1.18.1
   "id": "6598c76f-a220-4a2d-af6a-87b01771adda",
   "metadata": {
    "jupyter": {
     "source_hidden": true
    },
<<<<<<< HEAD
=======
    "scrolled": false,
>>>>>>> 1.18.1
    "tags": []
   },
   "outputs": [],
   "source": [
    "def generate_dummy_conf():\n",
    "    return {\n",
    "        'df_devices': dummy_df_devices,\n",
    "        'modbus_maps' : {'dummy1':dummy_modbus_map}\n",
    "    }"
   ]
  },
  {
   "cell_type": "code",
<<<<<<< HEAD
   "execution_count": 6,
   "id": "7d65dee2",
   "metadata": {},
   "outputs": [
    {
     "name": "stdout",
     "output_type": "stream",
     "text": [
      "configuration file /home/dorian/dummy_project_gaia_user/conf_dummy_project_gaia.pkl found!\n",
      "configuration file loaded !\n"
     ]
    },
    {
     "ename": "KeyError",
     "evalue": "'status'",
     "output_type": "error",
     "traceback": [
      "\u001b[0;31m---------------------------------------------------------------------------\u001b[0m",
      "\u001b[0;31mKeyError\u001b[0m                                  Traceback (most recent call last)",
      "File \u001b[0;32m~/dorianLibs/sylfenUtils/.env/lib/python3.8/site-packages/pandas/core/indexes/base.py:3802\u001b[0m, in \u001b[0;36mIndex.get_loc\u001b[0;34m(self, key, method, tolerance)\u001b[0m\n\u001b[1;32m   3801\u001b[0m \u001b[38;5;28;01mtry\u001b[39;00m:\n\u001b[0;32m-> 3802\u001b[0m     \u001b[38;5;28;01mreturn\u001b[39;00m \u001b[38;5;28;43mself\u001b[39;49m\u001b[38;5;241;43m.\u001b[39;49m\u001b[43m_engine\u001b[49m\u001b[38;5;241;43m.\u001b[39;49m\u001b[43mget_loc\u001b[49m\u001b[43m(\u001b[49m\u001b[43mcasted_key\u001b[49m\u001b[43m)\u001b[49m\n\u001b[1;32m   3803\u001b[0m \u001b[38;5;28;01mexcept\u001b[39;00m \u001b[38;5;167;01mKeyError\u001b[39;00m \u001b[38;5;28;01mas\u001b[39;00m err:\n",
      "File \u001b[0;32m~/dorianLibs/sylfenUtils/.env/lib/python3.8/site-packages/pandas/_libs/index.pyx:138\u001b[0m, in \u001b[0;36mpandas._libs.index.IndexEngine.get_loc\u001b[0;34m()\u001b[0m\n",
      "File \u001b[0;32m~/dorianLibs/sylfenUtils/.env/lib/python3.8/site-packages/pandas/_libs/index.pyx:165\u001b[0m, in \u001b[0;36mpandas._libs.index.IndexEngine.get_loc\u001b[0;34m()\u001b[0m\n",
      "File \u001b[0;32mpandas/_libs/hashtable_class_helper.pxi:5745\u001b[0m, in \u001b[0;36mpandas._libs.hashtable.PyObjectHashTable.get_item\u001b[0;34m()\u001b[0m\n",
      "File \u001b[0;32mpandas/_libs/hashtable_class_helper.pxi:5753\u001b[0m, in \u001b[0;36mpandas._libs.hashtable.PyObjectHashTable.get_item\u001b[0;34m()\u001b[0m\n",
      "\u001b[0;31mKeyError\u001b[0m: 'status'",
      "\nThe above exception was the direct cause of the following exception:\n",
      "\u001b[0;31mKeyError\u001b[0m                                  Traceback (most recent call last)",
      "Input \u001b[0;32mIn [6]\u001b[0m, in \u001b[0;36m<cell line: 3>\u001b[0;34m()\u001b[0m\n\u001b[1;32m      1\u001b[0m \u001b[38;5;28;01mfrom\u001b[39;00m \u001b[38;5;21;01msylfenUtils\u001b[39;00m \u001b[38;5;28;01mimport\u001b[39;00m GAIA\n\u001b[0;32m----> 3\u001b[0m dummy_gaia\u001b[38;5;241m=\u001b[39m\u001b[43mGAIA\u001b[49m\u001b[38;5;241;43m.\u001b[39;49m\u001b[43mGAIA\u001b[49m\u001b[43m(\u001b[49m\u001b[43mproject_name\u001b[49m\u001b[38;5;241;43m=\u001b[39;49m\u001b[38;5;124;43m'\u001b[39;49m\u001b[38;5;124;43mdummy_project_gaia\u001b[39;49m\u001b[38;5;124;43m'\u001b[39;49m\u001b[43m,\u001b[49m\u001b[43m \u001b[49m\n\u001b[1;32m      4\u001b[0m \u001b[43m                     \u001b[49m\u001b[43mfunction_generator\u001b[49m\u001b[38;5;241;43m=\u001b[39;49m\u001b[43mgenerate_dummy_conf\u001b[49m\u001b[43m,\u001b[49m\u001b[43m \u001b[49m\n\u001b[1;32m      5\u001b[0m \u001b[43m                     \u001b[49m\u001b[43mroot_folder\u001b[49m\u001b[38;5;241;43m=\u001b[39;49m\u001b[38;5;28;43;01mNone\u001b[39;49;00m\u001b[43m,\u001b[49m\u001b[43m \u001b[49m\u001b[43mrealtime\u001b[49m\u001b[38;5;241;43m=\u001b[39;49m\u001b[38;5;28;43;01mTrue\u001b[39;49;00m\u001b[43m)\u001b[49m\n",
      "File \u001b[0;32m~/dorianLibs/sylfenUtils/sylfenUtils/GAIA.py:420\u001b[0m, in \u001b[0;36mGAIA.__init__\u001b[0;34m(self, root_folder, realtime, verbose, *args, **kwargs)\u001b[0m\n\u001b[1;32m    418\u001b[0m \u001b[38;5;28;01mif\u001b[39;00m \u001b[38;5;129;01mnot\u001b[39;00m \u001b[38;5;28mhasattr\u001b[39m(\u001b[38;5;28mself\u001b[39m\u001b[38;5;241m.\u001b[39mconf,\u001b[38;5;124m'\u001b[39m\u001b[38;5;124mmodbus_maps\u001b[39m\u001b[38;5;124m'\u001b[39m):\u001b[38;5;28mself\u001b[39m\u001b[38;5;241m.\u001b[39mconf\u001b[38;5;241m.\u001b[39mmodbus_maps\u001b[38;5;241m=\u001b[39m\u001b[38;5;28;01mNone\u001b[39;00m\n\u001b[1;32m    419\u001b[0m \u001b[38;5;28;01mif\u001b[39;00m \u001b[38;5;129;01mnot\u001b[39;00m \u001b[38;5;28mhasattr\u001b[39m(\u001b[38;5;28mself\u001b[39m\u001b[38;5;241m.\u001b[39mconf,\u001b[38;5;124m'\u001b[39m\u001b[38;5;124mplcs\u001b[39m\u001b[38;5;124m'\u001b[39m):\u001b[38;5;28mself\u001b[39m\u001b[38;5;241m.\u001b[39mconf\u001b[38;5;241m.\u001b[39mplcs\u001b[38;5;241m=\u001b[39m\u001b[38;5;28;01mNone\u001b[39;00m\n\u001b[0;32m--> 420\u001b[0m \u001b[38;5;28mself\u001b[39m\u001b[38;5;241m.\u001b[39mdevices     \u001b[38;5;241m=\u001b[39m \u001b[43mbuild_devices\u001b[49m\u001b[43m(\u001b[49m\u001b[38;5;28;43mself\u001b[39;49m\u001b[38;5;241;43m.\u001b[39;49m\u001b[43mconf\u001b[49m\u001b[38;5;241;43m.\u001b[39;49m\u001b[43mdf_devices\u001b[49m\u001b[43m,\u001b[49m\u001b[38;5;28;43mself\u001b[39;49m\u001b[38;5;241;43m.\u001b[39;49m\u001b[43mconf\u001b[49m\u001b[38;5;241;43m.\u001b[39;49m\u001b[43mmodbus_maps\u001b[49m\u001b[43m,\u001b[49m\u001b[38;5;28;43mself\u001b[39;49m\u001b[38;5;241;43m.\u001b[39;49m\u001b[43mconf\u001b[49m\u001b[38;5;241;43m.\u001b[39;49m\u001b[43mplcs\u001b[49m\u001b[43m,\u001b[49m\u001b[43mverbose\u001b[49m\u001b[38;5;241;43m=\u001b[39;49m\u001b[43mverbose\u001b[49m\u001b[43m)\u001b[49m\n\u001b[1;32m    421\u001b[0m \u001b[38;5;28mself\u001b[39m\u001b[38;5;241m.\u001b[39m_dumper     \u001b[38;5;241m=\u001b[39m comUtils\u001b[38;5;241m.\u001b[39mSuperDumper_daily(\u001b[38;5;28mself\u001b[39m\u001b[38;5;241m.\u001b[39mdevices,\u001b[38;5;28mself\u001b[39m\u001b[38;5;241m.\u001b[39mconf)\n\u001b[1;32m    422\u001b[0m \u001b[38;5;28mself\u001b[39m\u001b[38;5;241m.\u001b[39m_visualiser \u001b[38;5;241m=\u001b[39m comUtils\u001b[38;5;241m.\u001b[39mVisualisationMaster_daily(\u001b[38;5;28mself\u001b[39m\u001b[38;5;241m.\u001b[39mconf)\n",
      "File \u001b[0;32m~/dorianLibs/sylfenUtils/sylfenUtils/GAIA.py:18\u001b[0m, in \u001b[0;36mbuild_devices\u001b[0;34m(df_devices, modbus_maps, plcs, verbose)\u001b[0m\n\u001b[1;32m     16\u001b[0m DEVICES \u001b[38;5;241m=\u001b[39m {}\n\u001b[1;32m     17\u001b[0m devicesInfo\u001b[38;5;241m=\u001b[39mdf_devices\u001b[38;5;241m.\u001b[39mcopy()\n\u001b[0;32m---> 18\u001b[0m devicesInfo\u001b[38;5;241m=\u001b[39mdevicesInfo[\u001b[43mdevicesInfo\u001b[49m\u001b[43m[\u001b[49m\u001b[38;5;124;43m'\u001b[39;49m\u001b[38;5;124;43mstatus\u001b[39;49m\u001b[38;5;124;43m'\u001b[39;49m\u001b[43m]\u001b[49m\u001b[38;5;241m==\u001b[39m\u001b[38;5;124m'\u001b[39m\u001b[38;5;124mactif\u001b[39m\u001b[38;5;124m'\u001b[39m]\n\u001b[1;32m     19\u001b[0m devicesInfo\u001b[38;5;241m.\u001b[39mcolumns\u001b[38;5;241m=\u001b[39m[k\u001b[38;5;241m.\u001b[39mlower() \u001b[38;5;28;01mfor\u001b[39;00m k \u001b[38;5;129;01min\u001b[39;00m devicesInfo\u001b[38;5;241m.\u001b[39mcolumns]\n\u001b[1;32m     20\u001b[0m \u001b[38;5;66;03m# comUtils.print_file(devicesInfo['protocole'])\u001b[39;00m\n",
      "File \u001b[0;32m~/dorianLibs/sylfenUtils/.env/lib/python3.8/site-packages/pandas/core/frame.py:3807\u001b[0m, in \u001b[0;36mDataFrame.__getitem__\u001b[0;34m(self, key)\u001b[0m\n\u001b[1;32m   3805\u001b[0m \u001b[38;5;28;01mif\u001b[39;00m \u001b[38;5;28mself\u001b[39m\u001b[38;5;241m.\u001b[39mcolumns\u001b[38;5;241m.\u001b[39mnlevels \u001b[38;5;241m>\u001b[39m \u001b[38;5;241m1\u001b[39m:\n\u001b[1;32m   3806\u001b[0m     \u001b[38;5;28;01mreturn\u001b[39;00m \u001b[38;5;28mself\u001b[39m\u001b[38;5;241m.\u001b[39m_getitem_multilevel(key)\n\u001b[0;32m-> 3807\u001b[0m indexer \u001b[38;5;241m=\u001b[39m \u001b[38;5;28;43mself\u001b[39;49m\u001b[38;5;241;43m.\u001b[39;49m\u001b[43mcolumns\u001b[49m\u001b[38;5;241;43m.\u001b[39;49m\u001b[43mget_loc\u001b[49m\u001b[43m(\u001b[49m\u001b[43mkey\u001b[49m\u001b[43m)\u001b[49m\n\u001b[1;32m   3808\u001b[0m \u001b[38;5;28;01mif\u001b[39;00m is_integer(indexer):\n\u001b[1;32m   3809\u001b[0m     indexer \u001b[38;5;241m=\u001b[39m [indexer]\n",
      "File \u001b[0;32m~/dorianLibs/sylfenUtils/.env/lib/python3.8/site-packages/pandas/core/indexes/base.py:3804\u001b[0m, in \u001b[0;36mIndex.get_loc\u001b[0;34m(self, key, method, tolerance)\u001b[0m\n\u001b[1;32m   3802\u001b[0m     \u001b[38;5;28;01mreturn\u001b[39;00m \u001b[38;5;28mself\u001b[39m\u001b[38;5;241m.\u001b[39m_engine\u001b[38;5;241m.\u001b[39mget_loc(casted_key)\n\u001b[1;32m   3803\u001b[0m \u001b[38;5;28;01mexcept\u001b[39;00m \u001b[38;5;167;01mKeyError\u001b[39;00m \u001b[38;5;28;01mas\u001b[39;00m err:\n\u001b[0;32m-> 3804\u001b[0m     \u001b[38;5;28;01mraise\u001b[39;00m \u001b[38;5;167;01mKeyError\u001b[39;00m(key) \u001b[38;5;28;01mfrom\u001b[39;00m \u001b[38;5;21;01merr\u001b[39;00m\n\u001b[1;32m   3805\u001b[0m \u001b[38;5;28;01mexcept\u001b[39;00m \u001b[38;5;167;01mTypeError\u001b[39;00m:\n\u001b[1;32m   3806\u001b[0m     \u001b[38;5;66;03m# If we have a listlike key, _check_indexing_error will raise\u001b[39;00m\n\u001b[1;32m   3807\u001b[0m     \u001b[38;5;66;03m#  InvalidIndexError. Otherwise we fall through and re-raise\u001b[39;00m\n\u001b[1;32m   3808\u001b[0m     \u001b[38;5;66;03m#  the TypeError.\u001b[39;00m\n\u001b[1;32m   3809\u001b[0m     \u001b[38;5;28mself\u001b[39m\u001b[38;5;241m.\u001b[39m_check_indexing_error(key)\n",
      "\u001b[0;31mKeyError\u001b[0m: 'status'"
     ]
    }
   ],
=======
   "execution_count": null,
   "id": "7d65dee2",
   "metadata": {},
   "outputs": [],
>>>>>>> 1.18.1
   "source": [
    "from sylfenUtils import GAIA\n",
    "\n",
    "dummy_gaia=GAIA.GAIA(project_name='dummy_project_gaia', \n",
    "                     function_generator=generate_dummy_conf, \n",
    "                     root_folder=None, realtime=True)"
   ]
  },
  {
   "cell_type": "markdown",
   "id": "41879897-6724-4b72-bd1c-7bfa003d962b",
   "metadata": {},
   "source": [
    "It has created a folder in the home of the user executing the script with following content : "
   ]
  },
  {
   "cell_type": "markdown",
   "id": "0c11bbfb-98b5-4081-9d52-1fe94c6eb70b",
   "metadata": {},
   "source": [
    "- **dummy_project_daily** would contain(by default) the data that are going to be generated => dummy_conf.FOLDERPKL\n",
    "- **conf_dummy_project.pkl** is the object containing all the important information of the project(the configuration) saved as dictionnary. The keys are then attributes of dummy_conf object.  \n",
    "- **log** : dummy_conf.LOG_FOLDER which is the folder where the logs are going to be stored (by default)\n",
    "- **parameters.conf** : is a standard file with default settings that you are able to to modify.  \n",
    "\n",
    "Your configuration is done now. \n",
    "\n",
    "**Note**: You can also create your own class to generate the configuration that inheritates from Conf_generator class."
   ]
  },
  {
   "cell_type": "markdown",
   "id": "4277b073-b0b6-4127-ba04-35b3f0800181",
   "metadata": {},
   "source": [
    "## 1.2 Modify default settings if you need it"
   ]
  },
  {
   "cell_type": "markdown",
   "id": "ce620f3a-ac74-48a5-9f3e-0af87cf830cb",
   "metadata": {},
   "source": [
    "As said in previous section you can change the default settings at any time.\n",
    "For the moment the content of the **parameters.conf** file is :  "
   ]
  },
  {
   "cell_type": "code",
   "execution_count": null,
   "id": "c29b4d39-eb52-4326-b9f5-8f168163428b",
   "metadata": {
    "jupyter": {
     "source_hidden": true
    },
    "scrolled": true,
    "tags": []
   },
   "outputs": [],
   "source": [
    "with open('/home/marc-a/dummy_project_gaia_user/parameters.conf','r') as f : \n",
    "    for l in f.readlines():\n",
    "        print(l)"
   ]
  },
  {
   "cell_type": "markdown",
   "id": "22ea60df-fb1d-48ad-b451-665514d87ada",
   "metadata": {},
   "source": [
    "Explanation of the parameters:\n",
    "- **database parameters**:For the data acquisition you NEED TO INSTALL POSTGRESSQL and CREATE A DATABASE WITH A USER having permissions to create databases. Follow instructions [here](http://wiki.sylfen.com/sql/)\n",
    "  - db_host : host of the postgres database\n",
    "  - db_port : port of the postgres database\n",
    "  - db_name : name of the database.\n",
    "  - db_user : valid postgressql user with\n",
    "  - db_password : db_user password to connect to the database\n",
    "  - DB_TABLE : database table where the data are going to be stored with timestamp,tag,value columns.\n",
    "- **other shared variables**:  \n",
    "  - PARKING_TIME:the size of the database in seconds until it is emptied.\n",
    "  - TZ_RECORD: the timezone used to park the data. By default it is CET whereas it would be better to have UTC. But for people living in CET timezone it is easier to open a day-folder with all the hours  of the current day(and not having to open 2 folders for that).\n",
    "  - SIMULATOR:whether the simulator should be used instead of connecting to the real devices(convenient when working offline or not on the private network where the devices are available).\n",
    "  - FOLDERPKL:path of the folder where the daily parked data are stored. If *default* the data are found in dummy_conf.project_folder.\n",
    "  - LOG_FOLDER:path of the folder where the logs are found.   \n",
    "Precise where the data will be stored on your machine, which timezone, how big the database will be and the logs folder.\n",
    "- **dashboard specific variables**\n",
    "  - TEST_ENV:if True the *dashboard.py* file will be run on port 15000 from flask(not wsgi production environment).\n",
    "  - TMAX: works only if TEST_ENV is true. The end datetime of datetimepicker of the the dashboard.  \n",
    "\n",
    "These parameters are then accessible from any instance of Conf_generator (or your own children class) as soon as with a name of the project. As such all the other higher-level objects will know these information."
   ]
  },
  {
   "cell_type": "markdown",
   "id": "da3b7961-1c10-4571-8d63-24094b99a3de",
   "metadata": {
    "tags": []
   },
   "source": [
    "# 2. DUMP DATA "
   ]
  },
  {
   "cell_type": "markdown",
   "id": "d87f834a-163d-4e12-875e-db4c5bd9c44c",
   "metadata": {},
   "source": [
    "## 2.1 Start the SIMULATOR of the modbus device (optionnal)\n",
    "As we don't have the dummy device delivering data with the modbus protocole, we will create a simulator of the device based on the same modbus map and we will run the modbus server to serve data (random data). \n",
    "For your real project you can of course skip this step if the device is available on your network."
   ]
  },
  {
   "cell_type": "code",
   "execution_count": null,
   "id": "4bfb00cf-5dbe-402a-8cda-58426b4e1b5b",
   "metadata": {
    "tags": []
   },
   "outputs": [],
   "source": [
    "from sylfenUtils.Simulators import SimulatorModeBus\n",
    "\n",
    "dummy_simulator = SimulatorModeBus(\n",
    "   port = dummy_gaia.devices['dummy1'].port,\n",
    "#    port = 6500,\n",
    "    modbus_map = dummy_gaia.devices['dummy1'].modbus_map,\n",
    "    simulator_name = 'dummy_gaia_simulator',\n",
    "    bo = dummy_gaia.devices['dummy1'].byte_order,\n",
    "    wo = dummy_gaia.devices['dummy1'].word_order)\n",
    "\n",
    "dummy_simulator.start()"
   ]
  },
  {
   "cell_type": "code",
   "execution_count": null,
   "id": "cd34d437",
   "metadata": {},
   "outputs": [],
   "source": [
    "# Start dumping data\n",
    "# param bool park_on_time: if True, it will wait for the parking to start at a round time.\n",
    "dummy_gaia.start_dumping(park_on_time=False)"
   ]
  },
  {
   "cell_type": "code",
   "execution_count": null,
   "id": "0bad98df",
   "metadata": {},
   "outputs": [],
   "source": [
    "dummy_gaia.read_db()"
   ]
  },
  {
   "cell_type": "code",
   "execution_count": null,
   "id": "8cff8b1e",
   "metadata": {},
   "outputs": [],
   "source": [
    "dummy_gaia.stop_dumping()"
   ]
  },
  {
   "cell_type": "code",
   "execution_count": null,
   "id": "41d5a7b2",
   "metadata": {},
   "outputs": [],
   "source": [
    "dummy_gaia.run_GUI()"
   ]
  },
  {
   "cell_type": "markdown",
   "id": "109e4242-32a7-460b-a9cc-0f9c1b30fb0d",
   "metadata": {},
   "source": [
    "- to deploy it to the world, open the port of the app on your routeur and use host='0.0.0.0'\n",
    "\n",
    "As Flask says it is not a reliable as a production environment. It is better to use wsgi and gunicorn to run the app.\n",
    "- more convenient is to control the process with with **systemctl** on a Linux server. \n",
    "- Then use **nginx**(or apache) to make the redirection via a reverse proxy configured in a <myapp>.conf file in the nginx folders *sites_enabled* and *sites-available* to be able to map your domain name or subdomain name to the app. A guide is to be found [here](https://github.com/dorianSylfen/smallpower)."
   ]
  },
  {
   "cell_type": "code",
   "execution_count": null,
   "id": "f4dd2852",
   "metadata": {},
   "outputs": [],
   "source": []
  }
 ],
 "metadata": {
  "kernelspec": {
<<<<<<< HEAD
   "display_name": "sylfenutils",
   "language": "python",
   "name": "sylfenutils"
=======
   "display_name": "test-venv",
   "language": "python",
   "name": "test-venv"
>>>>>>> 1.18.1
  },
  "language_info": {
   "codemirror_mode": {
    "name": "ipython",
    "version": 3
   },
   "file_extension": ".py",
   "mimetype": "text/x-python",
   "name": "python",
   "nbconvert_exporter": "python",
   "pygments_lexer": "ipython3",
<<<<<<< HEAD
   "version": "3.8.10"
=======
   "version": "3.10.6"
>>>>>>> 1.18.1
  }
 },
 "nbformat": 4,
 "nbformat_minor": 5
}
