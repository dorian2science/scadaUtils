{
 "cells": [
  {
   "cell_type": "code",
   "execution_count": 1,
   "id": "71abc891-5977-4f00-8730-7a852b3f51f1",
   "metadata": {},
   "outputs": [
    {
     "name": "stdout",
     "output_type": "stream",
     "text": [
      "/home/dorian/dorianLibs/sylfenUtils/sylfenUtils/__init__.py\n",
      "<frame at 0x7f6fbafd3c80, file '<frozen importlib._bootstrap>', line 219, code _call_with_frames_removed>\n"
     ]
    }
   ],
   "source": [
    "import importlib,pandas as pd,sys\n",
    "from sylfenUtils.GAIA import build_devices\n",
    "from sylfenUtils.Simulators import SuperSimulator\n",
    "from sylfenUtils import GAIA"
   ]
  },
  {
   "cell_type": "markdown",
   "id": "7e4cf46a-3078-4a51-8de8-6dcd04833e16",
   "metadata": {},
   "source": [
    "Chargement de la liste d'appareils configuréeavec toutes les informations essentielles. "
   ]
  },
  {
   "cell_type": "code",
   "execution_count": 2,
   "id": "f81e521e-edf8-4c2a-93bb-93ea8c2c9143",
   "metadata": {},
   "outputs": [],
   "source": [
    "df_devices=pd.read_csv('data/dummy_devices.csv',index_col=0)"
   ]
  },
  {
   "cell_type": "markdown",
   "id": "00044e1d-4562-4872-a1bf-ee5f5b69cfcf",
   "metadata": {},
   "source": [
    "Je charge les tables modbus pour les appareils modbus. Il est possible de créer une classe propre et des fonctions pour la génération de ces tables et autres objets important de la configuration. Ensuite il faut donner un nom à la fonction qui va générer la configuration. La fonction doit retourner un dictionnaire avec les objets importants. L'atttibut dfplc doit être dans le dictionnaire sinon au moins le dictionnaire modbus_maps."
   ]
  },
  {
   "cell_type": "code",
   "execution_count": 3,
   "id": "9f12aa16-2ae1-43fc-a333-9d42ba8fd4db",
   "metadata": {},
   "outputs": [],
   "source": [
    "dummy_1_modbus_map=pd.read_excel('data/dummy_modbus_devices.ods',sheet_name='dummy1',index_col=0)\n",
    "dummy_2_modbus_map=pd.read_excel('data/dummy_modbus_devices.ods',sheet_name='dummy2',index_col=0)\n",
    "def generate_dummy_conf():\n",
    "    return {\n",
    "        'df_devices':df_devices,\n",
    "        'modbus_maps':{\n",
    "            'dummy1':dummy_1_modbus_map,\n",
    "            'dummy2':dummy_2_modbus_map,\n",
    "            },\n",
    "    }"
   ]
  },
  {
   "cell_type": "markdown",
   "id": "91071c3a-87b7-4ebe-968d-34cab3803023",
   "metadata": {},
   "source": [
    "Le constructeur GAIA peut être appelé ensuite avec comme argument le nom du projet et la fonction qui génére la configuration. "
   ]
  },
  {
   "cell_type": "code",
   "execution_count": 4,
   "id": "3b47049b-2b21-4d84-962f-788aac5ed5a0",
   "metadata": {},
   "outputs": [
    {
     "name": "stdout",
     "output_type": "stream",
     "text": [
      "configuration file /home/dorian/gaia_dummy_user/conf_gaia_dummy.pkl found!\n",
      "configuration file loaded !\n",
      "your log is in: /home/dorian/gaia_dummy_user/log/\n",
      "============================================================ \n",
      "YOUR ATTENTION PLEASE.\n",
      "Please check your default settings for the application in the file. /home/dorian/gaia_dummy_user/parameters.conf\n",
      "If necessary change the settings and reinstanciate your GAIA object\n",
      "============================================================\n"
     ]
    }
   ],
   "source": [
    "gaia_dummy=GAIA.GAIA('gaia_dummy',generate_dummy_conf)\n",
    "gaia_dummy._dumper.log_file=None"
   ]
  },
  {
   "cell_type": "markdown",
   "id": "92a8e771-2f81-4b6c-805c-7a3d01eaeb8c",
   "metadata": {},
   "source": [
    "# Start the simulators"
   ]
  },
  {
   "cell_type": "code",
   "execution_count": 5,
   "id": "5913b242-19a8-42a3-ab0e-da65fe1e6427",
   "metadata": {},
   "outputs": [
    {
     "name": "stdout",
     "output_type": "stream",
     "text": [
      "Start server...\n",
      "Server dummy1 is online\n",
      "Server simulator dummy1 is feeding\n",
      "Start server...\n",
      "Server dummy2 is online\n",
      "Server simulator dummy2 is feeding\n"
     ]
    }
   ],
   "source": [
    "conf=gaia_dummy.conf\n",
    "dummy_simulator=SuperSimulator(conf)\n",
    "dummy_simulator.start_all_devices()"
   ]
  },
  {
   "cell_type": "markdown",
   "id": "9a753ea2-d463-4977-a0ac-a7024e1f5fe9",
   "metadata": {},
   "source": [
    "# Park the data and start dumping"
   ]
  },
  {
   "cell_type": "code",
   "execution_count": 6,
   "id": "1e50d916-ce17-489a-9590-22fab8c92117",
   "metadata": {},
   "outputs": [
    {
     "name": "stdout",
     "output_type": "stream",
     "text": [
      " 22 Nov 13:27:41 : realtimedata_test in db_test for data <2022-11-22T13:27:41.727324+01:00 read in 22.79 ms\n",
      "\u001b[34m/home/dorian/dorianLibs/sylfenUtils/sylfenUtils/comUtils.py,\u001b[32m1561\n",
      "\u001b[37m 22 Nov 13:27:41 : database parked in 39.79 ms\n",
      " 22 Nov 13:27:42 : START DUMPING\n",
      " parking should start at  2022-11-22 13:28:00.003041+01:00\n",
      " 22 Nov 13:27:42 : START PARKING\n",
      " 22 Nov 13:27:42 : realtimedata_test in db_test for data <2022-11-22T13:27:42.003439+01:00 read in 40.40 ms\n",
      "\u001b[34m/home/dorian/dorianLibs/sylfenUtils/sylfenUtils/comUtils.py,\u001b[32m1543\n",
      "\u001b[37m table realtimedata_test in db_test empty\n"
     ]
    }
   ],
   "source": [
    "gaia_dummy.park_database()\n",
    "gaia_dummy.start_dumping()"
   ]
  },
  {
   "cell_type": "code",
   "execution_count": null,
   "id": "de9fe58b-97f6-4d5b-a7b7-10fa3e3e444b",
   "metadata": {},
   "outputs": [
    {
     "name": "stdout",
     "output_type": "stream",
     "text": [
      " * Serving Flask app 'sylfenUtils.dashboard'\n",
      " * Debug mode: off\n"
     ]
    },
    {
     "name": "stderr",
     "output_type": "stream",
     "text": [
      "WARNING: This is a development server. Do not use it in a production deployment. Use a production WSGI server instead.\n",
      " * Running on all addresses (0.0.0.0)\n",
      " * Running on http://127.0.0.1:20000\n",
      " * Running on http://192.168.1.147:20000\n",
      "Press CTRL+C to quit\n",
      "127.0.0.1 - - [22/Nov/2022 13:27:53] \"GET / HTTP/1.1\" 200 -\n",
      "127.0.0.1 - - [22/Nov/2022 13:27:53] \"GET /static/lib/css/styles.css HTTP/1.1\" 304 -\n",
      "127.0.0.1 - - [22/Nov/2022 13:27:53] \"GET /static/lib/css/toggle_switch.css HTTP/1.1\" 304 -\n",
      "127.0.0.1 - - [22/Nov/2022 13:27:53] \"GET /static/lib/acolorpicker.js HTTP/1.1\" 304 -\n",
      "127.0.0.1 - - [22/Nov/2022 13:27:53] \"GET /static/lib/css/dropdown_filter.css HTTP/1.1\" 304 -\n",
      "127.0.0.1 - - [22/Nov/2022 13:27:53] \"GET /static/lib/js/jquery.min.js HTTP/1.1\" 304 -\n",
      "127.0.0.1 - - [22/Nov/2022 13:27:53] \"GET /static/lib/js/showdown.min.js HTTP/1.1\" 304 -\n",
      "127.0.0.1 - - [22/Nov/2022 13:27:53] \"GET /static/lib/js/plotly.js HTTP/1.1\" 304 -\n",
      "127.0.0.1 - - [22/Nov/2022 13:27:53] \"GET /static/lib/js/moment.min.js HTTP/1.1\" 304 -\n",
      "127.0.0.1 - - [22/Nov/2022 13:27:53] \"GET /static/lib/js/daterangepicker.js HTTP/1.1\" 304 -\n",
      "127.0.0.1 - - [22/Nov/2022 13:27:53] \"GET /static/local_dash.js HTTP/1.1\" 404 -\n",
      "127.0.0.1 - - [22/Nov/2022 13:27:53] \"GET /static/lib/js/dashboard.js HTTP/1.1\" 304 -\n",
      "127.0.0.1 - - [22/Nov/2022 13:27:53] \"GET /static/lib/pictures/logo_sylfen.png HTTP/1.1\" 304 -\n",
      "127.0.0.1 - - [22/Nov/2022 13:27:54] \"GET /init HTTP/1.1\" 200 -\n",
      "127.0.0.1 - - [22/Nov/2022 13:27:54] \"GET /static/local_dash.js HTTP/1.1\" 404 -\n",
      "127.0.0.1 - - [22/Nov/2022 13:27:54] \"GET /static/null HTTP/1.1\" 404 -\n",
      "127.0.0.1 - - [22/Nov/2022 13:27:54] \"GET /static/lib/search2.png HTTP/1.1\" 200 -\n",
      "127.0.0.1 - - [22/Nov/2022 13:27:54] \"POST /generate_fig HTTP/1.1\" 200 -\n",
      "127.0.0.1 - - [22/Nov/2022 13:27:55] \"POST /send_description_names HTTP/1.1\" 200 -\n"
     ]
    },
    {
     "name": "stdout",
     "output_type": "stream",
     "text": [
      "tag\n"
     ]
    }
   ],
   "source": [
    "### run GUI\n",
    "gaia_dummy._dashboard.max_nb_pts=500*1000\n",
    "gaia_dummy._dashboard.rs_min_coarse=5*60\n",
    "gaia_dummy._dashboard.nb_days_min_coarse=3\n",
    "gaia_dummy.run_GUI(port=20000)"
   ]
  }
 ],
 "metadata": {
  "kernelspec": {
   "display_name": "sylfenutils",
   "language": "python",
   "name": "sylfenutils"
  },
  "language_info": {
   "codemirror_mode": {
    "name": "ipython",
    "version": 3
   },
   "file_extension": ".py",
   "mimetype": "text/x-python",
   "name": "python",
   "nbconvert_exporter": "python",
   "pygments_lexer": "ipython3",
   "version": "3.8.10"
  }
 },
 "nbformat": 4,
 "nbformat_minor": 5
}
