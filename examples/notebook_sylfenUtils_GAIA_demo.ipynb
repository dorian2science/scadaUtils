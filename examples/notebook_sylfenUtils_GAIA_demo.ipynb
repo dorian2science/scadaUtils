{
 "cells": [
  {
   "cell_type": "code",
   "execution_count": 1,
   "id": "73f57c21-c608-44ac-8e4f-62103b2daafb",
   "metadata": {
    "tags": []
   },
   "outputs": [],
   "source": [
    "from scadaUtils import comUtils\n",
    "import os,sys,re, pandas as pd"
   ]
  },
  {
   "attachments": {},
   "cell_type": "markdown",
   "id": "556ba31b-a3a5-443b-90b1-c027aa702f60",
   "metadata": {},
   "source": [
    "# 1.Build the configuration of your project using the Conf_generator\n",
    "Let's say we have the following configuration. Some 2 devicecs in modbus and one in opcua."
   ]
  },
  {
   "cell_type": "code",
   "execution_count": 2,
   "id": "881dc713",
   "metadata": {},
   "outputs": [
    {
     "data": {
      "text/html": [
       "<div>\n",
       "<style scoped>\n",
       "    .dataframe tbody tr th:only-of-type {\n",
       "        vertical-align: middle;\n",
       "    }\n",
       "\n",
       "    .dataframe tbody tr th {\n",
       "        vertical-align: top;\n",
       "    }\n",
       "\n",
       "    .dataframe thead th {\n",
       "        text-align: right;\n",
       "    }\n",
       "</style>\n",
       "<table border=\"1\" class=\"dataframe\">\n",
       "  <thead>\n",
       "    <tr style=\"text-align: right;\">\n",
       "      <th></th>\n",
       "      <th>protocole</th>\n",
       "      <th>IP</th>\n",
       "      <th>byte_order</th>\n",
       "      <th>word_order</th>\n",
       "      <th>type_registers</th>\n",
       "      <th>port</th>\n",
       "      <th>statut</th>\n",
       "    </tr>\n",
       "    <tr>\n",
       "      <th>device</th>\n",
       "      <th></th>\n",
       "      <th></th>\n",
       "      <th></th>\n",
       "      <th></th>\n",
       "      <th></th>\n",
       "      <th></th>\n",
       "      <th></th>\n",
       "    </tr>\n",
       "  </thead>\n",
       "  <tbody>\n",
       "    <tr>\n",
       "      <th>dummy1</th>\n",
       "      <td>modbus</td>\n",
       "      <td>localhost</td>\n",
       "      <td>big</td>\n",
       "      <td>big</td>\n",
       "      <td>holding</td>\n",
       "      <td>3502.0</td>\n",
       "      <td>actif</td>\n",
       "    </tr>\n",
       "    <tr>\n",
       "      <th>dummy2</th>\n",
       "      <td>modbus</td>\n",
       "      <td>localhost</td>\n",
       "      <td>big</td>\n",
       "      <td>little</td>\n",
       "      <td>holding</td>\n",
       "      <td>6500.0</td>\n",
       "      <td>actif</td>\n",
       "    </tr>\n",
       "    <tr>\n",
       "      <th>dummy_opcua</th>\n",
       "      <td>opcua</td>\n",
       "      <td>localhost</td>\n",
       "      <td>NaN</td>\n",
       "      <td>NaN</td>\n",
       "      <td>NaN</td>\n",
       "      <td>NaN</td>\n",
       "      <td>inactif</td>\n",
       "    </tr>\n",
       "  </tbody>\n",
       "</table>\n",
       "</div>"
      ],
      "text/plain": [
       "            protocole         IP byte_order word_order type_registers    port  \\\n",
       "device                                                                          \n",
       "dummy1         modbus  localhost        big        big        holding  3502.0   \n",
       "dummy2         modbus  localhost        big     little        holding  6500.0   \n",
       "dummy_opcua     opcua  localhost        NaN        NaN            NaN     NaN   \n",
       "\n",
       "              statut  \n",
       "device                \n",
       "dummy1         actif  \n",
       "dummy2         actif  \n",
       "dummy_opcua  inactif  "
      ]
     },
     "execution_count": 2,
     "metadata": {},
     "output_type": "execute_result"
    }
   ],
   "source": [
    "dummy_df_devices = pd.read_excel('data/dummy_devices.ods', sheet_name = 'devices', index_col=0)\n",
    "dummy_df_devices"
   ]
  },
  {
   "cell_type": "markdown",
   "id": "e704d64e-92eb-4745-bbcf-39ff1ee5069b",
   "metadata": {},
   "source": [
    "We load the modbus tables."
   ]
  },
  {
   "cell_type": "code",
   "execution_count": 3,
   "id": "37227a81",
   "metadata": {},
   "outputs": [
    {
     "data": {
      "text/html": [
       "<div>\n",
       "<style scoped>\n",
       "    .dataframe tbody tr th:only-of-type {\n",
       "        vertical-align: middle;\n",
       "    }\n",
       "\n",
       "    .dataframe tbody tr th {\n",
       "        vertical-align: top;\n",
       "    }\n",
       "\n",
       "    .dataframe thead th {\n",
       "        text-align: right;\n",
       "    }\n",
       "</style>\n",
       "<table border=\"1\" class=\"dataframe\">\n",
       "  <thead>\n",
       "    <tr style=\"text-align: right;\">\n",
       "      <th></th>\n",
       "      <th>description</th>\n",
       "      <th>scale</th>\n",
       "      <th>unit</th>\n",
       "      <th>type</th>\n",
       "      <th>intaddress</th>\n",
       "      <th>size(mots)</th>\n",
       "      <th>slave_unit</th>\n",
       "      <th>frequency</th>\n",
       "    </tr>\n",
       "    <tr>\n",
       "      <th>tag</th>\n",
       "      <th></th>\n",
       "      <th></th>\n",
       "      <th></th>\n",
       "      <th></th>\n",
       "      <th></th>\n",
       "      <th></th>\n",
       "      <th></th>\n",
       "      <th></th>\n",
       "    </tr>\n",
       "  </thead>\n",
       "  <tbody>\n",
       "    <tr>\n",
       "      <th>PT_L5_H2O.HM05</th>\n",
       "      <td>pressure water line 5</td>\n",
       "      <td>10</td>\n",
       "      <td>mbar</td>\n",
       "      <td>float32</td>\n",
       "      <td>10</td>\n",
       "      <td>2</td>\n",
       "      <td>1</td>\n",
       "      <td>2</td>\n",
       "    </tr>\n",
       "    <tr>\n",
       "      <th>TT_L5_H2O.HM05</th>\n",
       "      <td>Temperature of water exchanger line 5</td>\n",
       "      <td>100</td>\n",
       "      <td>C</td>\n",
       "      <td>int32</td>\n",
       "      <td>26</td>\n",
       "      <td>2</td>\n",
       "      <td>1</td>\n",
       "      <td>2</td>\n",
       "    </tr>\n",
       "    <tr>\n",
       "      <th>PT_L7_H2O.HM05</th>\n",
       "      <td>pressure water line 7</td>\n",
       "      <td>100</td>\n",
       "      <td>mbar</td>\n",
       "      <td>float32</td>\n",
       "      <td>32</td>\n",
       "      <td>2</td>\n",
       "      <td>1</td>\n",
       "      <td>5</td>\n",
       "    </tr>\n",
       "    <tr>\n",
       "      <th>PT_L6_N2.HM05</th>\n",
       "      <td>pressure n2 line 6</td>\n",
       "      <td>10</td>\n",
       "      <td>mbar</td>\n",
       "      <td>float32</td>\n",
       "      <td>34</td>\n",
       "      <td>2</td>\n",
       "      <td>2</td>\n",
       "      <td>5</td>\n",
       "    </tr>\n",
       "    <tr>\n",
       "      <th>FT_L6_N2.HM05</th>\n",
       "      <td>Debit N2</td>\n",
       "      <td>10</td>\n",
       "      <td>g/s</td>\n",
       "      <td>float32</td>\n",
       "      <td>36</td>\n",
       "      <td>2</td>\n",
       "      <td>2</td>\n",
       "      <td>10</td>\n",
       "    </tr>\n",
       "    <tr>\n",
       "      <th>FT_L12_H2.HM05</th>\n",
       "      <td>debit H2</td>\n",
       "      <td>100</td>\n",
       "      <td>g/s</td>\n",
       "      <td>float32</td>\n",
       "      <td>68</td>\n",
       "      <td>2</td>\n",
       "      <td>1</td>\n",
       "      <td>10</td>\n",
       "    </tr>\n",
       "    <tr>\n",
       "      <th>V_C_TIME.CN</th>\n",
       "      <td>temps de fonctionnement</td>\n",
       "      <td>100</td>\n",
       "      <td>h</td>\n",
       "      <td>int16</td>\n",
       "      <td>70</td>\n",
       "      <td>1</td>\n",
       "      <td>1</td>\n",
       "      <td>60</td>\n",
       "    </tr>\n",
       "  </tbody>\n",
       "</table>\n",
       "</div>"
      ],
      "text/plain": [
       "                                          description  scale  unit     type  \\\n",
       "tag                                                                           \n",
       "PT_L5_H2O.HM05                  pressure water line 5     10  mbar  float32   \n",
       "TT_L5_H2O.HM05  Temperature of water exchanger line 5    100     C    int32   \n",
       "PT_L7_H2O.HM05                  pressure water line 7    100  mbar  float32   \n",
       "PT_L6_N2.HM05                      pressure n2 line 6     10  mbar  float32   \n",
       "FT_L6_N2.HM05                                Debit N2     10   g/s  float32   \n",
       "FT_L12_H2.HM05                               debit H2    100   g/s  float32   \n",
       "V_C_TIME.CN                   temps de fonctionnement    100     h    int16   \n",
       "\n",
       "                intaddress  size(mots)  slave_unit  frequency  \n",
       "tag                                                            \n",
       "PT_L5_H2O.HM05          10           2           1          2  \n",
       "TT_L5_H2O.HM05          26           2           1          2  \n",
       "PT_L7_H2O.HM05          32           2           1          5  \n",
       "PT_L6_N2.HM05           34           2           2          5  \n",
       "FT_L6_N2.HM05           36           2           2         10  \n",
       "FT_L12_H2.HM05          68           2           1         10  \n",
       "V_C_TIME.CN             70           1           1         60  "
      ]
     },
     "execution_count": 3,
     "metadata": {},
     "output_type": "execute_result"
    }
   ],
   "source": [
    "dummy_modbus_map1 = pd.read_excel('data/dummy_devices.ods', sheet_name = 'dummy1', index_col = 0)\n",
    "dummy_modbus_map2 = pd.read_excel('data/dummy_devices.ods', sheet_name = 'dummy2', index_col = 0)\n",
    "dummy_modbus_map1"
   ]
  },
  {
   "cell_type": "markdown",
   "id": "74e539d2",
   "metadata": {},
   "source": [
    "# 2. Start the project with this configuration of devices"
   ]
  },
  {
   "cell_type": "code",
   "execution_count": 4,
   "id": "6598c76f-a220-4a2d-af6a-87b01771adda",
   "metadata": {
    "tags": []
   },
   "outputs": [],
   "source": [
    "def generate_dummy_conf():\n",
    "    return {\n",
    "        'df_devices': dummy_df_devices,\n",
    "        'modbus_maps' : {\n",
    "            'dummy1':dummy_modbus_map1,\n",
    "            'dummy2':dummy_modbus_map2\n",
    "        },\n",
    "        'tag_categories':{'dummy':{'water line':['PT_L5_H2O.HM05','PT_L7_H2O.HM05']}}\n",
    "    }"
   ]
  },
  {
   "cell_type": "code",
   "execution_count": 5,
   "id": "d2b2713e-2142-43db-87d5-97679ddd49b8",
   "metadata": {},
   "outputs": [
    {
     "name": "stdout",
     "output_type": "stream",
     "text": [
      "configuration file /home/dorian/dummy_project_gaia_user/conf_dummy_project_gaia.pkl found!\n",
      "configuration file loaded !\n",
      "generating configuration files and store it in : /home/dorian/dummy_project_gaia_user/conf_dummy_project_gaia.pkl\n",
      "configuration file generated in  : 0.004526615142822266 seconds.\n",
      "\u001b[34m/home/dorian/gitLocals/scadaUtils/scadaUtils/Conf_generator.py,\u001b[32m14\u001b[37m following credentials : {'host': 'localhost', 'port': '5432', 'user': 'test', 'password': 'test'}  to connect to the database are not valid.\n",
      "Impossible to create the database realtime_data\n",
      "\u001b[39m\n",
      "\u001b[34m/home/dorian/gitLocals/scadaUtils/scadaUtils/Conf_generator.py,\u001b[32m287\u001b[37m ---------------------------------------------------------------------------------------------------- \u001b[31m \n",
      "Impossible to create the table : realtime_data \n",
      "Please make sure the database credentials are correct. \n",
      "Instanciation of your GAIA instance was killed. \n",
      "Solve this issue before instanciating again.\n",
      " \u001b[39m ----------------------------------------------------------------------------------------------------\n",
      "\n",
      "\u001b[39m\n"
     ]
    },
    {
     "ename": "SystemExit",
     "evalue": "",
     "output_type": "error",
     "traceback": [
      "An exception has occurred, use %tb to see the full traceback.\n",
      "\u001b[0;31mSystemExit\u001b[0m\n"
     ]
    },
    {
     "name": "stderr",
     "output_type": "stream",
     "text": [
      "/home/dorian/inodiag/.dev/lib/python3.10/site-packages/IPython/core/interactiveshell.py:3534: UserWarning: To exit: use 'exit', 'quit', or Ctrl-D.\n",
      "  warn(\"To exit: use 'exit', 'quit', or Ctrl-D.\", stacklevel=1)\n"
     ]
    }
   ],
   "source": [
    "from scadaUtils import Conf_generator \n",
    "conf = Conf_generator.Conf_generator_RT(project_name='dummy_project_gaia', function_generator=generate_dummy_conf,force_creation=True)"
   ]
  },
  {
   "cell_type": "code",
   "execution_count": 6,
   "id": "b3b6ded5-1caa-4d75-883b-a0c603340790",
   "metadata": {},
   "outputs": [
    {
     "ename": "NameError",
     "evalue": "name 'conf' is not defined",
     "output_type": "error",
     "traceback": [
      "\u001b[0;31m---------------------------------------------------------------------------\u001b[0m",
      "\u001b[0;31mNameError\u001b[0m                                 Traceback (most recent call last)",
      "Cell \u001b[0;32mIn[6], line 1\u001b[0m\n\u001b[0;32m----> 1\u001b[0m \u001b[43mconf\u001b[49m\u001b[38;5;241m.\u001b[39mdfplc\n",
      "\u001b[0;31mNameError\u001b[0m: name 'conf' is not defined"
     ]
    }
   ],
   "source": [
    "conf.dfplc"
   ]
  },
  {
   "cell_type": "code",
   "execution_count": null,
   "id": "7d65dee2",
   "metadata": {},
   "outputs": [],
   "source": [
    "from scadaUtils import GAIA\n",
    "# GAIA.GAIA?\n",
    "gaia = GAIA.GAIA(project_name='dummy_project_gaia', function_generator=generate_dummy_conf,realtime=True,verbose=True,force_creation=True)"
   ]
  },
  {
   "cell_type": "markdown",
   "id": "da3b7961-1c10-4571-8d63-24094b99a3de",
   "metadata": {
    "tags": []
   },
   "source": [
    "# 2. DUMP DATA "
   ]
  },
  {
   "cell_type": "markdown",
   "id": "d87f834a-163d-4e12-875e-db4c5bd9c44c",
   "metadata": {},
   "source": [
    "## 2.1 Start the SIMULATOR of the modbus device (optionnal)\n",
    "As we don't have the dummy device delivering data with the modbus protocole, we will create a simulator of the device based on the same modbus map and we will run the modbus server to serve data (random data). \n",
    "For your real project you can of course skip this step if the device is available on your network."
   ]
  },
  {
   "cell_type": "code",
   "execution_count": null,
   "id": "4bfb00cf-5dbe-402a-8cda-58426b4e1b5b",
   "metadata": {
    "tags": []
   },
   "outputs": [],
   "source": [
    "from scadaUtils.Simulators import SimulatorModeBus\n",
    "\n",
    "dummy_simulator1 = SimulatorModeBus(\n",
    "   port = dummy_gaia.devices['dummy1'].port,\n",
    "    modbus_map = dummy_gaia.devices['dummy1'].modbus_map,\n",
    "    simulator_name = 'dummy_gaia_simulator',\n",
    "    bo = dummy_gaia.devices['dummy1'].byte_order,\n",
    "    wo = dummy_gaia.devices['dummy1'].word_order)\n",
    "\n",
    "dummy_simulator2 = SimulatorModeBus(\n",
    "   port = dummy_gaia.devices['dummy2'].port,\n",
    "    modbus_map = dummy_gaia.devices['dummy2'].modbus_map,\n",
    "    simulator_name = 'dummy_gaia_simulator',\n",
    "    bo = dummy_gaia.devices['dummy2'].byte_order,\n",
    "    wo = dummy_gaia.devices['dummy2'].word_order)\n",
    "\n",
    "dummy_simulator.start()"
   ]
  },
  {
   "cell_type": "code",
   "execution_count": null,
   "id": "cd34d437",
   "metadata": {},
   "outputs": [],
   "source": [
    "# Start dumping data\n",
    "# param bool park_on_time: if True, it will wait for the parking to start at a round time.\n",
    "dummy_gaia.start_dumping(park_on_time=False)"
   ]
  },
  {
   "cell_type": "code",
   "execution_count": null,
   "id": "0bad98df",
   "metadata": {},
   "outputs": [],
   "source": [
    "dummy_gaia.read_db()"
   ]
  },
  {
   "cell_type": "code",
   "execution_count": null,
   "id": "8cff8b1e",
   "metadata": {},
   "outputs": [],
   "source": [
    "dummy_gaia.stop_dumping()"
   ]
  },
  {
   "cell_type": "code",
   "execution_count": null,
   "id": "41d5a7b2",
   "metadata": {},
   "outputs": [],
   "source": [
    "dummy_gaia.run_GUI()"
   ]
  },
  {
   "cell_type": "markdown",
   "id": "109e4242-32a7-460b-a9cc-0f9c1b30fb0d",
   "metadata": {},
   "source": [
    "- to deploy it to the world, open the port of the app on your routeur and use host='0.0.0.0'\n",
    "\n",
    "As Flask says it is not a reliable as a production environment. It is better to use wsgi and gunicorn to run the app.\n",
    "- more convenient is to control the process with with **systemctl** on a Linux server. \n",
    "- Then use **nginx**(or apache) to make the redirection via a reverse proxy configured in a <myapp>.conf file in the nginx folders *sites_enabled* and *sites-available* to be able to map your domain name or subdomain name to the app. A guide is to be found [here](https://github.com/dorianSylfen/smallpower)."
   ]
  },
  {
   "cell_type": "code",
   "execution_count": null,
   "id": "f4dd2852",
   "metadata": {},
   "outputs": [],
   "source": []
  }
 ],
 "metadata": {
  "kernelspec": {
   "display_name": "dev",
   "language": "python",
   "name": "dev"
  },
  "language_info": {
   "codemirror_mode": {
    "name": "ipython",
    "version": 3
   },
   "file_extension": ".py",
   "mimetype": "text/x-python",
   "name": "python",
   "nbconvert_exporter": "python",
   "pygments_lexer": "ipython3",
   "version": "3.10.12"
  }
 },
 "nbformat": 4,
 "nbformat_minor": 5
}
