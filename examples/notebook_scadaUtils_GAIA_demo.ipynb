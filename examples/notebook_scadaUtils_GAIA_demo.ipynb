{
 "cells": [
  {
   "cell_type": "code",
   "execution_count": 1,
   "id": "73f57c21-c608-44ac-8e4f-62103b2daafb",
   "metadata": {
    "tags": []
   },
   "outputs": [],
   "source": [
    "from scadaUtils import comUtils\n",
    "import os,sys,re, pandas as pd"
   ]
  },
  {
   "attachments": {},
   "cell_type": "markdown",
   "id": "556ba31b-a3a5-443b-90b1-c027aa702f60",
   "metadata": {},
   "source": [
    "# 1.Build the configuration of your project using the Conf_generator\n",
    "Let's say we have the following configuration."
   ]
  },
  {
   "cell_type": "code",
   "execution_count": null,
   "id": "881dc713",
   "metadata": {},
   "outputs": [],
   "source": [
    "dummy_df_devices = pd.read_excel('data/dummy_devices.ods', sheet_name = 'devices', index_col=0)\n",
    "dummy_df_devices"
   ]
  },
  {
   "cell_type": "markdown",
   "id": "e704d64e-92eb-4745-bbcf-39ff1ee5069b",
   "metadata": {},
   "source": [
    "We load the modbus tables."
   ]
  },
  {
   "cell_type": "code",
   "execution_count": null,
   "id": "37227a81",
   "metadata": {},
   "outputs": [],
   "source": [
    "dummy_modbus_map1 = pd.read_excel('data/dummy_devices.ods', sheet_name = 'dummy1', index_col = 0)\n",
    "dummy_modbus_map2 = pd.read_excel('data/dummy_devices.ods', sheet_name = 'dummy2', index_col = 0)\n",
    "dummy_modbus_map1"
   ]
  },
  {
   "cell_type": "markdown",
   "id": "74e539d2",
   "metadata": {},
   "source": [
    "# 2. Start the project with this configuration of devices"
   ]
  },
  {
   "cell_type": "code",
   "execution_count": null,
   "id": "6598c76f-a220-4a2d-af6a-87b01771adda",
   "metadata": {
    "tags": []
   },
   "outputs": [],
   "source": [
    "def generate_dummy_conf():\n",
    "    return {\n",
    "        'df_devices': dummy_df_devices,\n",
    "        'modbus_maps' : {\n",
    "            'dummy1':dummy_modbus_map1,\n",
    "            'dummy2':dummy_modbus_map2\n",
    "        },\n",
    "        'tag_categories':{'dummy':{'water line':['PT_L5_H2O.HM05','PT_L7_H2O.HM05']}}\n",
    "    }"
   ]
  },
  {
   "cell_type": "code",
   "execution_count": null,
   "id": "d2b2713e-2142-43db-87d5-97679ddd49b8",
   "metadata": {},
   "outputs": [],
   "source": [
    "from scadaUtils import Conf_generator \n",
    "conf = Conf_generator.Conf_generator_RT(project_name='dummy_project_gaia', function_generator=generate_dummy_conf,force_creation=True)"
   ]
  },
  {
   "cell_type": "code",
   "execution_count": null,
   "id": "b3b6ded5-1caa-4d75-883b-a0c603340790",
   "metadata": {},
   "outputs": [],
   "source": [
    "# conf.dfplc"
   ]
  },
  {
   "cell_type": "code",
   "execution_count": null,
   "id": "7d65dee2",
   "metadata": {},
   "outputs": [],
   "source": [
    "from scadaUtils import GAIA\n",
    "# GAIA.GAIA?\n",
    "gaia = GAIA.GAIA(project_name='dummy_project_gaia', function_generator=generate_dummy_conf,realtime=True,verbose=True,force_creation=True)"
   ]
  },
  {
   "cell_type": "markdown",
   "id": "da3b7961-1c10-4571-8d63-24094b99a3de",
   "metadata": {
    "tags": []
   },
   "source": [
    "# 2. DUMP DATA "
   ]
  },
  {
   "cell_type": "markdown",
   "id": "d87f834a-163d-4e12-875e-db4c5bd9c44c",
   "metadata": {},
   "source": [
    "## 2.1 Start the SIMULATOR of the modbus device (optionnal)\n",
    "As we don't have the dummy device delivering data with the modbus protocole, we will create a simulator of the device based on the same modbus map and we will run the modbus server to serve data (random data). \n",
    "For your real project you can of course skip this step if the device is available on your network."
   ]
  },
  {
   "cell_type": "code",
   "execution_count": null,
   "id": "4bfb00cf-5dbe-402a-8cda-58426b4e1b5b",
   "metadata": {
    "tags": []
   },
   "outputs": [],
   "source": [
    "from scadaUtils.Simulators import SimulatorModeBus\n",
    "\n",
    "dummy_simulator1 = SimulatorModeBus(\n",
    "   port = gaia.devices['dummy1'].port,\n",
    "    modbus_map = gaia.devices['dummy1'].modbus_map,\n",
    "    simulator_name = 'dummy_gaia_simulator',\n",
    "    bo = gaia.devices['dummy1'].byte_order,\n",
    "    wo = gaia.devices['dummy1'].word_order)\n",
    "\n",
    "dummy_simulator2 = SimulatorModeBus(\n",
    "   port = gaia.devices['dummy2'].port,\n",
    "    modbus_map = gaia.devices['dummy2'].modbus_map,\n",
    "    simulator_name = 'dummy_gaia_simulator',\n",
    "    bo = gaia.devices['dummy2'].byte_order,\n",
    "    wo = gaia.devices['dummy2'].word_order)\n",
    "\n",
    "dummy_simulator1.start()\n",
    "dummy_simulator2.start()"
   ]
  },
  {
   "cell_type": "code",
   "execution_count": null,
   "id": "cd34d437",
   "metadata": {
    "scrolled": true
   },
   "outputs": [],
   "source": [
    "# Start dumping data\n",
    "# param bool park_on_time: if True, it will wait for the parking to start at a round time.\n",
    "gaia.start_dumping(park_on_time=False)"
   ]
  },
  {
   "cell_type": "code",
   "execution_count": null,
   "id": "41d5a7b2",
   "metadata": {
    "scrolled": true
   },
   "outputs": [],
   "source": [
    "gaia.run_GUI(port=19000)"
   ]
  },
  {
   "cell_type": "markdown",
   "id": "cd5bbe56-a53d-4abc-8ed6-76f61126f90c",
   "metadata": {},
   "source": [
    "## check Dumping  "
   ]
  },
  {
   "cell_type": "code",
   "execution_count": null,
   "id": "0bad98df",
   "metadata": {},
   "outputs": [],
   "source": [
    "gaia.read_db()"
   ]
  },
  {
   "cell_type": "code",
   "execution_count": null,
   "id": "8cff8b1e",
   "metadata": {},
   "outputs": [],
   "source": [
    "dummy_gaia.stop_dumping()"
   ]
  },
  {
   "cell_type": "markdown",
   "id": "4ac006cd-ca02-42e6-aef0-95ceb1aca48c",
   "metadata": {},
   "source": [
    "## Check loading data"
   ]
  },
  {
   "cell_type": "code",
   "execution_count": null,
   "id": "4422360d-fb72-4ae5-b6c6-f3d3b176a486",
   "metadata": {},
   "outputs": [],
   "source": []
  },
  {
   "cell_type": "code",
   "execution_count": null,
   "id": "f4dd2852",
   "metadata": {},
   "outputs": [],
   "source": []
  },
  {
   "cell_type": "markdown",
   "id": "9695cab6-e7d3-4b3d-bca4-2f2ee735078a",
   "metadata": {},
   "source": [
    "## Test data collection"
   ]
  },
  {
   "cell_type": "code",
   "execution_count": null,
   "id": "bbe68c77-07c1-49a2-a4a4-f0e50c1a2f4b",
   "metadata": {},
   "outputs": [],
   "source": [
    "device = gaia._dumper.devices['dummy1']"
   ]
  },
  {
   "cell_type": "code",
   "execution_count": null,
   "id": "dea4a8a9-90ed-45e3-a8f7-be88fba7d0ec",
   "metadata": {},
   "outputs": [],
   "source": [
    "device.connectDevice()"
   ]
  },
  {
   "cell_type": "code",
   "execution_count": null,
   "id": "e34dc454-b399-434d-ba99-eb5e5b1d8246",
   "metadata": {},
   "outputs": [],
   "source": [
    "tags = device.dfplc.index.to_list()\n",
    "device.collectData('CET',tags)"
   ]
  },
  {
   "cell_type": "code",
   "execution_count": null,
   "id": "00346987-a469-4963-94d0-ae6caa1d63fe",
   "metadata": {},
   "outputs": [],
   "source": [
    "device._client.read_holding_registers('CET',tags)\n",
    "device.quick_decode_tag('CET',tags)"
   ]
  },
  {
   "cell_type": "markdown",
   "id": "60a9469f-2398-4845-abc4-40b193afba08",
   "metadata": {},
   "source": [
    "# quick"
   ]
  },
  {
   "cell_type": "code",
   "execution_count": null,
   "id": "d8b49846-dbae-4dae-919a-247ff35a4b78",
   "metadata": {
    "scrolled": true
   },
   "outputs": [],
   "source": [
    "from scadaUtils import comUtils\n",
    "import warnings\n",
    "warnings.filterwarnings(\"ignore\")\n",
    "import os,sys,re, pandas as pd\n",
    "dummy_df_devices = pd.read_excel('data/dummy_devices.ods', sheet_name = 'devices', index_col=0)\n",
    "dummy_modbus_map1 = pd.read_excel('data/dummy_devices.ods', sheet_name = 'dummy1', index_col = 0)\n",
    "dummy_modbus_map2 = pd.read_excel('data/dummy_devices.ods', sheet_name = 'dummy2', index_col = 0)\n",
    "def generate_dummy_conf():\n",
    "    return {\n",
    "        'df_devices': dummy_df_devices,\n",
    "        'modbus_maps' : {\n",
    "            'dummy1':dummy_modbus_map1,\n",
    "            'dummy2':dummy_modbus_map2\n",
    "        },\n",
    "        'tag_categories':{'dummy':{'water line':['PT_L5_H2O.HM05','PT_L7_H2O.HM05']}}\n",
    "    }\n",
    "from scadaUtils import GAIA\n",
    "gaia = GAIA.GAIA(project_name='dummy_project_gaia', function_generator=generate_dummy_conf,realtime=True,verbose=True,force_creation=True)"
   ]
  },
  {
   "cell_type": "code",
   "execution_count": null,
   "id": "e864952d-926f-42a8-ae54-80f6d1dddf9e",
   "metadata": {
    "scrolled": true
   },
   "outputs": [],
   "source": [
    "from scadaUtils.Simulators import SimulatorModeBus\n",
    "dummy_simulator1 = SimulatorModeBus(\n",
    "   port = gaia.devices['dummy1'].port,\n",
    "    modbus_map = gaia.devices['dummy1'].modbus_map,\n",
    "    simulator_name = 'dummy_gaia_simulator',\n",
    "    bo = gaia.devices['dummy1'].byte_order,\n",
    "    wo = gaia.devices['dummy1'].word_order)\n",
    "\n",
    "dummy_simulator2 = SimulatorModeBus(\n",
    "   port = gaia.devices['dummy2'].port,\n",
    "    modbus_map = gaia.devices['dummy2'].modbus_map,\n",
    "    simulator_name = 'dummy_gaia_simulator',\n",
    "    bo = gaia.devices['dummy2'].byte_order,\n",
    "    wo = gaia.devices['dummy2'].word_order)\n",
    "\n",
    "dummy_simulator1.start()\n",
    "dummy_simulator2.start()"
   ]
  },
  {
   "cell_type": "code",
   "execution_count": null,
   "id": "45b7ce48-fd07-4e29-88bd-5564b5affe84",
   "metadata": {
    "scrolled": true
   },
   "outputs": [],
   "source": [
    "gaia.start_dumping(park_on_time=False)"
   ]
  },
  {
   "cell_type": "code",
   "execution_count": null,
   "id": "7a8daa57-3316-4955-b069-0ca55c4caf61",
   "metadata": {
    "scrolled": true
   },
   "outputs": [],
   "source": [
    "gaia.run_GUI(port=19000)"
   ]
  },
  {
   "cell_type": "code",
   "execution_count": null,
   "id": "acc98ece-ff6e-4ab0-a550-c1836168bc1c",
   "metadata": {},
   "outputs": [],
   "source": [
    "# gaia.read_db()"
   ]
  },
  {
   "cell_type": "code",
   "execution_count": null,
   "id": "2e63072c-0cc1-4638-9790-bb7328e09e09",
   "metadata": {},
   "outputs": [],
   "source": [
    "t0 = pd.Timestamp('2024-01-15 05:00',tz='CET')\n",
    "t1 = pd.Timestamp('2024-01-17 14:30',tz='CET')\n",
    "tags = ['PT_L5_H2O.HM05','TT_L5_H2O.HM05']"
   ]
  },
  {
   "cell_type": "code",
   "execution_count": null,
   "id": "3c93654c-87bc-446d-9519-32e7efb6d5ef",
   "metadata": {
    "scrolled": true
   },
   "outputs": [],
   "source": [
    "df = gaia.loadtags_period(t0,t1,tags,model='dummy',verbose=True,rs='10s')\n",
    "df"
   ]
  },
  {
   "cell_type": "code",
   "execution_count": null,
   "id": "1cd12272-0409-4e5d-bf11-a884fa953c17",
   "metadata": {},
   "outputs": [],
   "source": [
    "gaia.park_database()"
   ]
  },
  {
   "cell_type": "markdown",
   "id": "91ce1cd0-6fa0-431b-acfd-340616eccf0c",
   "metadata": {},
   "source": [
    "## generate random data statically"
   ]
  },
  {
   "cell_type": "code",
   "execution_count": null,
   "id": "83315eea-dd93-4ef8-9a0e-e402d9186c1e",
   "metadata": {},
   "outputs": [],
   "source": [
    "import numpy as np\n",
    "from scadaUtils.comUtils import FORMAT_DAY,create_folder_if_not\n",
    "# def generate_random_data(self,t0,t1):\n",
    "self = gaia\n",
    "t0 = pd.Timestamp('2024-01-15 02:00',tz='CET')\n",
    "t1 = pd.Timestamp('2024-01-16 13:00',tz='CET')\n",
    "listdays = [k.strftime(FORMAT_DAY) for k in pd.date_range(t0,t1,ambiguous=True)]\n",
    "init_values = []\n",
    "for name,device in self.devices.items():\n",
    "    init_values.append(device.modbus_map[['minimum','maximum']].apply(lambda x:x[0] + np.random.randint(0,x[1]-x[0]),axis=1))\n",
    "init_values = pd.concat(init_values)"
   ]
  },
  {
   "cell_type": "code",
   "execution_count": null,
   "id": "1f83ce11-8c5f-4121-b31b-87ab26719e4e",
   "metadata": {},
   "outputs": [],
   "source": [
    "for t in init_values.index.to_list():\n",
    "    idx = pd.date_range(start=t0,end=t1,freq=str(gaia.conf.dfplc.loc[t,'FREQUENCE_ECHANTILLONNAGE'])+'S').tz_convert('UTC')\n",
    "    s = pd.Series(init_values[t] + np.random.rand(len(idx))*init_values[t]*0.02,index=idx)\n",
    "    s.index.name='timestampz'\n",
    "    s.name='value'\n",
    "    for d in listdays:\n",
    "        t00 = pd.Timestamp(d + ' 00:00:00',tz='UTC')\n",
    "        t10 = t0 + pd.Timedelta(days=1)\n",
    "        ss = s[(s.index>=t00)&(s.index<t10)]\n",
    "        folderday = os.path.join(gaia.conf.parameters['folderpkl'],'dummy',d)\n",
    "        create_folder_if_not(folderday)\n",
    "        namefile = os.path.join(folderday,t + '.pkl')\n",
    "        ss.to_pickle(namefile)"
   ]
  },
  {
   "cell_type": "code",
   "execution_count": null,
   "id": "c3e0f70a-1138-472e-bc4f-312dfaca5be5",
   "metadata": {},
   "outputs": [],
   "source": [
    "pd.read_pickle('/home/dorian/dummy_project_gaia_user/dummy_project_gaia_daily/dummy/2024-01-16/TT_L5_H2O.HM05.pkl')"
   ]
  },
  {
   "cell_type": "code",
   "execution_count": null,
   "id": "3e623724-72dc-4b57-9529-4575ed8997b8",
   "metadata": {},
   "outputs": [],
   "source": [
    "gaia.conf.dfplc"
   ]
  },
  {
   "cell_type": "code",
   "execution_count": null,
   "id": "34883c7f-7291-46b6-aaa2-a44ccab8e90e",
   "metadata": {},
   "outputs": [],
   "source": []
  }
 ],
 "metadata": {
  "kernelspec": {
   "display_name": "dev",
   "language": "python",
   "name": "dev"
  },
  "language_info": {
   "codemirror_mode": {
    "name": "ipython",
    "version": 3
   },
   "file_extension": ".py",
   "mimetype": "text/x-python",
   "name": "python",
   "nbconvert_exporter": "python",
   "pygments_lexer": "ipython3",
   "version": "3.10.12"
  }
 },
 "nbformat": 4,
 "nbformat_minor": 5
}
