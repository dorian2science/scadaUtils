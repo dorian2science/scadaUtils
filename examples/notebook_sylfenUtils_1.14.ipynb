{
 "cells": [
  {
   "cell_type": "markdown",
   "id": "d9b75a15-7392-4fd5-916f-8840695268b6",
   "metadata": {
    "tags": []
   },
   "source": [
    "# 0. Installation and import the libraries"
   ]
  },
  {
   "cell_type": "markdown",
   "id": "74848107-3af9-4218-bb17-e6d1e2d0a9ef",
   "metadata": {},
   "source": [
    "FIRST THING FIRST. \n",
    "\n",
    "Install sylfenUtils==1.14 in a virtual environment. Replace sylfen-user by your own account on Gaston in the following command and enter your password when asked:\n",
    "```\n",
    "pip install sylfenUtils @git+ssh://<sylfen-user>@cheylas.sylfen.com/home/<sylfen-user>/gitRepos/sylfenUtils.git@1.14\n",
    "```\n",
    "In order to run your jupyter-notebook with your virtual environment follow instructions [here](https://queirozf.com/entries/jupyter-kernels-how-to-add-change-remove).\n",
    "Then import the libraries."
   ]
  },
  {
   "cell_type": "code",
   "execution_count": null,
   "id": "73f57c21-c608-44ac-8e4f-62103b2daafb",
   "metadata": {
    "jupyter": {
     "source_hidden": true
    }
   },
   "outputs": [],
   "source": [
    "from sylfenUtils import comUtils\n",
    "import os,sys,re, pandas as pd"
   ]
  },
  {
   "cell_type": "markdown",
   "id": "a3367b63-3865-437d-af5c-04fda8b7ffab",
   "metadata": {},
   "source": [
    "Check that you have installed the right version of sylfenUtils."
   ]
  },
  {
   "cell_type": "markdown",
   "id": "f2625305-c0d3-4c8b-b439-2d8e906e6631",
   "metadata": {
    "tags": []
   },
   "source": [
    "# 1.Build the configuration of your project using the Conf_generator\n",
    "For convenience put your configuration work in a conf.py file which should serve as an object with all\n",
    "the important information."
   ]
  },
  {
   "cell_type": "markdown",
   "id": "e685e109-7c3f-49d0-b7ed-6b1c18638c21",
   "metadata": {},
   "source": [
    "## 1.1 Configure your project and call the Conf_generator class"
   ]
  },
  {
   "cell_type": "markdown",
   "id": "ec8db61b-911b-48ac-8e8a-e6f94d7d958d",
   "metadata": {},
   "source": [
    "Let's say you have a modbus table of a device in a \"modbus_dummy.csv\"(download it [here](wiki.sylfen.com/notebooks/data/modbus_dummy.csv) ) file and you can call this device \"dummy\". Read it with pandas without forgetting to adjust the path of the file depending where it is located on your device. "
   ]
  },
  {
   "cell_type": "code",
   "execution_count": null,
   "id": "3d72a6b7-5094-42d4-85cb-a0c9a1adc42a",
   "metadata": {
    "jupyter": {
     "source_hidden": true
    },
    "tags": []
   },
   "outputs": [],
   "source": [
    "dummy_modbus_map=pd.read_csv('data/modbus_dummy.csv',index_col=0)\n",
    "dummy_modbus_map"
   ]
  },
  {
   "cell_type": "markdown",
   "id": "e8735635-2c4c-499c-b8a8-3971ca882d8e",
   "metadata": {},
   "source": [
    "To use the dumper class of the comUtils module of the sylfenUtils library you need to build a df_plc dataframe with at least following columns:\n",
    "- TAGS(as index)\n",
    "- DESCRIPTION\n",
    "- UNITE\n",
    "- DATATYPE. \n",
    "For example you can build it from your dummy_modbus_device as follow:"
   ]
  },
  {
   "cell_type": "code",
   "execution_count": null,
   "id": "3aeb45ea-235d-4b1c-9548-5ab797244a13",
   "metadata": {
    "jupyter": {
     "source_hidden": true
    },
    "tags": []
   },
   "outputs": [],
   "source": [
    "df_plc=dummy_modbus_map[['description','unit','type']]\n",
    "df_plc.columns=['DESCRIPTION','UNITE','DATATYPE']\n",
    "dummy_df_plc=df_plc"
   ]
  },
  {
   "cell_type": "markdown",
   "id": "ba1da3a4-dcfa-415c-aac4-0c42c4eb175d",
   "metadata": {},
   "source": [
    "If you create a fonction that returns a dictionnary of all the objects of your configuration, the Conf_generator class will save that dictionnary as a .pkl file and will rerun the function if the pkl does not exist or on demand otherwise it will just load the dictionnary. If your configuration work takes time it will enable you to save a lot of loading time when executing your programm or tests. Instanciate your configuration object as follow.     "
   ]
  },
  {
   "cell_type": "code",
   "execution_count": null,
   "id": "6598c76f-a220-4a2d-af6a-87b01771adda",
   "metadata": {
    "jupyter": {
     "source_hidden": true
    },
    "tags": []
   },
   "outputs": [],
   "source": [
    "from sylfenUtils import Conf_generator\n",
    "def generate_dummy_conf():\n",
    "    return {\n",
    "        'dummy_modbus_map':dummy_modbus_map,\n",
    "        'dummy_df_plc':dummy_df_plc,\n",
    "    }\n",
    "dummy_conf=Conf_generator.Conf_generator('dummy_project',generate_dummy_conf)"
   ]
  },
  {
   "cell_type": "markdown",
   "id": "41879897-6724-4b72-bd1c-7bfa003d962b",
   "metadata": {},
   "source": [
    "It as created a folder in the home of the user executing the script with following content : "
   ]
  },
  {
   "cell_type": "code",
   "execution_count": null,
   "id": "dbdbfb7b-192a-4297-9dfc-4b06f758e226",
   "metadata": {
    "jupyter": {
     "source_hidden": true
    },
    "tags": []
   },
   "outputs": [],
   "source": [
    "os.listdir(dummy_conf.project_folder)"
   ]
  },
  {
   "cell_type": "markdown",
   "id": "0c11bbfb-98b5-4081-9d52-1fe94c6eb70b",
   "metadata": {},
   "source": [
    "- **dummy_project_daily** would contain(by default) the data that are going to be generated => dummy_conf.FOLDERPKL\n",
    "- **conf_dummy_project.pkl** is the object containing all the important information of the project(the configuration) saved as dictionnary. The keys are then attributes of dummy_conf object.  \n",
    "- **log** : dummy_conf.LOG_FOLDER which is the folder where the logs are going to be stored (by default)\n",
    "- **parameters.conf** : is a standard file with default settings that you are able to to modify.  \n",
    "\n",
    "Your configuration is done now. \n",
    "\n",
    "**Note**: You can also create your own class to generate the configuration that inheritates from Conf_generator class."
   ]
  },
  {
   "cell_type": "markdown",
   "id": "4277b073-b0b6-4127-ba04-35b3f0800181",
   "metadata": {},
   "source": [
    "## 1.2 Modify default settings if you need it"
   ]
  },
  {
   "cell_type": "markdown",
   "id": "ce620f3a-ac74-48a5-9f3e-0af87cf830cb",
   "metadata": {},
   "source": [
    "As said in previous section you can change the default settings at any time.\n",
    "For the moment the content of the **parameters.conf** file is :  "
   ]
  },
  {
   "cell_type": "code",
   "execution_count": null,
   "id": "c29b4d39-eb52-4326-b9f5-8f168163428b",
   "metadata": {
    "jupyter": {
     "source_hidden": true
    },
    "tags": []
   },
   "outputs": [],
   "source": [
    "with open(dummy_conf.file_parameters,'r') as f : \n",
    "    for l in f.readlines():\n",
    "        print(l)"
   ]
  },
  {
   "cell_type": "markdown",
   "id": "22ea60df-fb1d-48ad-b451-665514d87ada",
   "metadata": {},
   "source": [
    "Explanation of the parameters:\n",
    "- **database parameters**:For the data acquisition you NEED TO INSTALL POSTGRESSQL and CREATE A DATABASE WITH A USER having permissions to create databases. Follow instructions [here](http://wiki.sylfen.com/sql/)\n",
    "  - db_host : host of the postgres database\n",
    "  - db_port : port of the postgres database\n",
    "  - db_name : name of the database.\n",
    "  - db_user : valid postgressql user with\n",
    "  - db_password : db_user password to connect to the database\n",
    "  - DB_TABLE : database table where the data are going to be stored with timestamp,tag,value columns.\n",
    "- **other shared variables**:  \n",
    "  - PARKING_TIME:the size of the database in seconds until it is emptied.\n",
    "  - TZ_RECORD: the timezone used to park the data. By default it is CET whereas it would be better to have UTC. But for people living in CET timezone it is easier to open a day-folder with all the hours  of the current day(and not having to open 2 folders for that).\n",
    "  - SIMULATOR:whether the simulator should be used instead of connecting to the real devices(convenient when working offline or not on the private network where the devices are available).\n",
    "  - FOLDERPKL:path of the folder where the daily parked data are stored. If *default* the data are found in dummy_conf.project_folder.\n",
    "  - LOG_FOLDER:path of the folder where the logs are found.   \n",
    "Precise where the data will be stored on your machine, which timezone, how big the database will be and the logs folder.\n",
    "- **dashboard specific variables**\n",
    "  - TEST_ENV:if True the *dashboard.py* file will be run on port 15000 from flask(not wsgi production environment).\n",
    "  - TMAX: works only if TEST_ENV is true. The end datetime of datetimepicker of the the dashboard.  \n",
    "\n",
    "These parameters are then accessible from any instance of Conf_generator (or your own children class) as soon as with a name of the project. As such all the other higher-level objects will know these information."
   ]
  },
  {
   "cell_type": "markdown",
   "id": "da3b7961-1c10-4571-8d63-24094b99a3de",
   "metadata": {
    "tags": []
   },
   "source": [
    "# 2. DUMP DATA \n",
    "You learn here how to istanciate your dumper to record data as daily parked format. "
   ]
  },
  {
   "cell_type": "markdown",
   "id": "c0d78151-d127-4065-ba88-223256cec1fc",
   "metadata": {
    "tags": []
   },
   "source": [
    "## 2.1 Create modbus devices, add them to your DUMPER which will record data as parked format\n",
    "Your first device is the dummy device whose ip adress, byte order, word order are known. You just need to enter \n",
    "- ip of the device\n",
    "- running port\n",
    "- the name of the device(you can choose any, this has no effect)\n",
    "- the plc dataframe *dfplc*\n",
    "- the modbus map \n",
    "- the words(*wo*) and bytes(*bo*) endianess. Only 'little' or 'big' can be used. \n",
    "- the frequence *freq* of acquisition in seconds. How often you want to fetch the data."
   ]
  },
  {
   "cell_type": "code",
   "execution_count": null,
   "id": "e6edb4e1-d395-4e70-ba4e-11df64f3035e",
   "metadata": {
    "jupyter": {
     "source_hidden": true
    },
    "tags": []
   },
   "outputs": [],
   "source": [
    "from sylfenUtils.comUtils import ModbusDevice\n",
    "dummy_device=ModbusDevice(ip='localhost',port=3500,device_name='dummy_device',\n",
    "    dfplc=dummy_conf.dummy_df_plc,modbus_map=dummy_conf.dummy_modbus_map,bo='big',wo='big',freq=2)"
   ]
  },
  {
   "cell_type": "markdown",
   "id": "d87f834a-163d-4e12-875e-db4c5bd9c44c",
   "metadata": {},
   "source": [
    "## 2.2 Start the SIMULATOR of the modbus device (optionnal)\n",
    "As we don't have the dummy device delivering data with the modbus protocole, we will create a simulator of the device based on the same modbus map and we will run the modbus server to serve data (random data). \n",
    "For your real project you can of course skip this step if the device is available on your network."
   ]
  },
  {
   "cell_type": "code",
   "execution_count": null,
   "id": "4bfb00cf-5dbe-402a-8cda-58426b4e1b5b",
   "metadata": {
    "tags": []
   },
   "outputs": [],
   "source": [
    "from sylfenUtils.Simulators import SimulatorModeBus\n",
    "dummy_simulator=SimulatorModeBus(port=dummy_device.port,modbus_map=dummy_device.modbus_map,bo=dummy_device.byte_order,wo=dummy_device.word_order)\n",
    "dummy_simulator.start()"
   ]
  },
  {
   "cell_type": "markdown",
   "id": "a57daed0-d014-474f-80b1-325945bab968",
   "metadata": {},
   "source": [
    "## 2.3 make sure you can connect to the device and COLLECT ALL THE DATA from your modbus device in real time. (not necessary in operation)"
   ]
  },
  {
   "cell_type": "markdown",
   "id": "729daa71-ce12-4dd7-a977-04b9f08f2a9c",
   "metadata": {},
   "source": [
    "If you don't know the endianness you can instanciate your device anyway and yse the function **quick_modbus_single_register_decoder** with one register to guess the endianess."
   ]
  },
  {
   "cell_type": "code",
   "execution_count": null,
   "id": "4a5e2b4d-3406-4713-a2bc-f1032984cb34",
   "metadata": {
    "jupyter": {
     "source_hidden": true
    },
    "tags": []
   },
   "outputs": [],
   "source": [
    "dummy_device.connectDevice()\n",
    "dummy_device.quick_modbus_single_register_decoder(10,2,'float32',unit=1);"
   ]
  },
  {
   "cell_type": "markdown",
   "id": "0a6aaab4-6fdc-4d33-86a4-cef1bd5fbae8",
   "metadata": {},
   "source": [
    "here we see that the only reasonable value is for the combination byte_order='big' and words_order='little because all the others have extrem values. If this is still not unambiguous after one call. You can call it a second time. "
   ]
  },
  {
   "cell_type": "code",
   "execution_count": null,
   "id": "d0449628-8e08-4a1b-89ee-b12f0f5956c5",
   "metadata": {
    "jupyter": {
     "source_hidden": true
    },
    "tags": []
   },
   "outputs": [],
   "source": [
    "dummy_device.quick_modbus_single_register_decoder(10,2,'float32',unit=1);"
   ]
  },
  {
   "cell_type": "markdown",
   "id": "e9afee9d-acb7-4236-aea0-0847da31f15f",
   "metadata": {},
   "source": [
    "now we can see that all the others combinations have their values changed too radically. So it is very very likely that the correct encoding is 'big', 'big'."
   ]
  },
  {
   "cell_type": "code",
   "execution_count": null,
   "id": "7fe414b8-adb1-451f-a638-46b9ae518965",
   "metadata": {
    "jupyter": {
     "source_hidden": true
    },
    "tags": []
   },
   "outputs": [],
   "source": [
    "tags=dummy_device.dfplc.index.to_list()\n",
    "dummy_device.connectDevice()\n",
    "data=dummy_device.collectData('CET',tags)## do not forget to precise the time zome\n",
    "data"
   ]
  },
  {
   "cell_type": "markdown",
   "id": "060639ae-f906-4406-887a-f7ff1ba6825f",
   "metadata": {
    "tags": []
   },
   "source": [
    "## 2.4 Check that you can INSERT DATA INTO THE DATABASE (not necessary in operation)\n",
    "The database serves as a buffer for the realtime acquisition while simultaneously having the possibility to access the data. \n",
    "Check that the data were correclty inserted by retrieving all the data of your database."
   ]
  },
  {
   "cell_type": "code",
   "execution_count": null,
   "id": "f311a857-8fc5-46d0-bf3a-acb54d7a476e",
   "metadata": {
    "jupyter": {
     "source_hidden": true
    },
    "tags": []
   },
   "outputs": [],
   "source": [
    "dummy_device.insert_intodb(dummy_conf.DB_PARAMETERS,dummy_conf.DB_TABLE,'CET',tags)"
   ]
  },
  {
   "cell_type": "markdown",
   "id": "56c24ef3-f490-406d-a4cc-5f81ea995cf7",
   "metadata": {
    "tags": []
   },
   "source": [
    "Check that your database was filled with the data"
   ]
  },
  {
   "cell_type": "code",
   "execution_count": null,
   "id": "9a2b5a15-f598-4806-a250-c665ed15a8e2",
   "metadata": {
    "jupyter": {
     "source_hidden": true
    },
    "tags": []
   },
   "outputs": [],
   "source": [
    "dummy_conf.DB_PARAMETERS"
   ]
  },
  {
   "cell_type": "code",
   "execution_count": null,
   "id": "ae942de8-e4c4-4495-806a-ccf0c5e01b68",
   "metadata": {
    "jupyter": {
     "source_hidden": true
    },
    "tags": []
   },
   "outputs": [],
   "source": [
    "comUtils.read_db(dummy_conf.DB_PARAMETERS,dummy_conf.DB_TABLE) "
   ]
  },
  {
   "cell_type": "markdown",
   "id": "2642278b-b1eb-4714-9963-89d0fcaee1c5",
   "metadata": {
    "tags": []
   },
   "source": [
    "## 2.5 Instanciate your DUMPER\n",
    "With your devices you are ready to start your dumper. You need to precise : \n",
    "- a dictionnary of the devices \n",
    "- the folder where the data will be stored.\n",
    "- the parameters of the database \n",
    "- the time window of the database in seconds.\n",
    "- the name of the table in the database *dbTable*\n",
    "- the timezone used to record the data *tz_record*(by default 'CET')\n",
    "- the filename of the log file(by default None)"
   ]
  },
  {
   "cell_type": "code",
   "execution_count": null,
   "id": "3e644c25-510e-4b93-93bf-b0d8339df005",
   "metadata": {
    "jupyter": {
     "source_hidden": true
    },
    "tags": []
   },
   "outputs": [],
   "source": [
    "from sylfenUtils.comUtils import SuperDumper_daily\n",
    "DEVICES = {\n",
    "    'dummy_device':dummy_device,\n",
    "}\n",
    "log_file_name=os.path.join(dummy_conf.LOG_FOLDER,'dumper.log') ## give a name to your logger. \n",
    "log_file_name=None ## if you want either to have the information in the console use None.\n",
    "dumper=SuperDumper_daily(DEVICES,dummy_conf.FOLDERPKL,dummy_conf.DB_PARAMETERS,dummy_conf.PARKING_TIME,\n",
    "    dbTable=dummy_conf.DB_TABLE,tz_record=dummy_conf.TZ_RECORD,log_file=log_file_name)"
   ]
  },
  {
   "cell_type": "markdown",
   "id": "f05a7230-06af-402f-927d-9bbf1016c971",
   "metadata": {},
   "source": [
    "## 2.6 Park the database first before starting to dump data in case the database is already big. "
   ]
  },
  {
   "cell_type": "code",
   "execution_count": null,
   "id": "9f9ccee9-7468-4078-b92f-4218691a2f1b",
   "metadata": {
    "jupyter": {
     "source_hidden": true
    },
    "tags": []
   },
   "outputs": [],
   "source": [
    "dumper.park_database()"
   ]
  },
  {
   "cell_type": "markdown",
   "id": "86164433-40cd-43b9-a8a0-c53396fb2aec",
   "metadata": {},
   "source": [
    "## 2.7 start to dump data."
   ]
  },
  {
   "cell_type": "code",
   "execution_count": null,
   "id": "e4b5eedc-7495-47dd-8ef7-f1f150df2a74",
   "metadata": {
    "jupyter": {
     "source_hidden": true
    },
    "tags": []
   },
   "outputs": [],
   "source": [
    "dumper.start_dumping()"
   ]
  },
  {
   "cell_type": "markdown",
   "id": "c597b732-5dc3-4e71-aecd-7b7f7033e4e7",
   "metadata": {
    "tags": []
   },
   "source": [
    "check that it is correctly feeding the database"
   ]
  },
  {
   "cell_type": "code",
   "execution_count": null,
   "id": "a06f0593-7e8b-4b13-9ee1-83f7415982be",
   "metadata": {
    "jupyter": {
     "source_hidden": true
    },
    "tags": []
   },
   "outputs": [],
   "source": [
    "dumper.read_db() "
   ]
  },
  {
   "cell_type": "markdown",
   "id": "a57978d1-abf4-4b0f-bfb6-51940d9cce5e",
   "metadata": {
    "tags": []
   },
   "source": [
    "Remarks:\n",
    "- opcua device are also available\n",
    "- if you want to create a new device class that works neither with modbus nor with OPCUA protocole you can create a children class of comUtils.Device. Just make sure : \n",
    "    - to rewrite a function **collectData** that collect all the data from the plc dataframe of the device.\n",
    "    - a function **connectDevice** that connects to the device.\n"
   ]
  },
  {
   "cell_type": "markdown",
   "id": "0ddc0ef8-2ecd-4c15-9807-19f0eb265d2c",
   "metadata": {
    "tags": []
   },
   "source": [
    "# 3. READ THE DATA in REAL TIME\n",
    "Now you can load your parked data to process and visualize them."
   ]
  },
  {
   "cell_type": "markdown",
   "id": "21866b41-aadb-4a0c-8e19-501a7db356b3",
   "metadata": {
    "tags": []
   },
   "source": [
    "## 3.1 Instanciate the VISUALISER object\n",
    "you need to enter almost all the same parameters as for the dumper. You may wonder and find it unconvenient because we could have included this object in the dumper which in that case you won't have to recreate an other object. The reasons for not having proceeded this way are :\n",
    "- dissociation of the objects so that you can visualise data from a folder even if the dumper is not running or not working. Loading historical data is possible without the dumper. \n",
    "- it simplifies the architecture of the code. Modularity brings complexity but improve order, robustness, maintainability and readability.   "
   ]
  },
  {
   "cell_type": "code",
   "execution_count": null,
   "id": "840702c3-3562-47e0-96cd-15e34f85d3b3",
   "metadata": {
    "jupyter": {
     "source_hidden": true
    },
    "tags": []
   },
   "outputs": [],
   "source": [
    "from sylfenUtils.comUtils import VisualisationMaster_daily\n",
    "cfg=VisualisationMaster_daily(\n",
    "    dummy_conf.FOLDERPKL,\n",
    "    dummy_conf.DB_PARAMETERS,\n",
    "    dummy_conf.PARKING_TIME,\n",
    "    dbTable=dummy_conf.DB_TABLE,\n",
    "    tz_record=dummy_conf.TZ_RECORD\n",
    ")"
   ]
  },
  {
   "cell_type": "markdown",
   "id": "c39de576-d596-498c-bb5f-1dcc461981c8",
   "metadata": {
    "tags": []
   },
   "source": [
    "There is now a SMALL SHORTCOMING HERE OF THE LIBRARY. The visualiser needs the whole plc dataframe with all the tags of all your devices. \n",
    "You should not need to use the dumper to instanciate the visualiser. \n",
    "It would be better to concatenate the plc_dataframe of all your devices in one plc_dataframe."
   ]
  },
  {
   "cell_type": "code",
   "execution_count": null,
   "id": "df9c3ec9-e454-458b-b28d-127f76224b0d",
   "metadata": {
    "jupyter": {
     "source_hidden": true
    },
    "tags": []
   },
   "outputs": [],
   "source": [
    "cfg.dfplc=dumper.dfplc ### required to use the function getTagsTU\n",
    "cfg.listUnits=list(cfg.dfplc['UNITE'].unique())"
   ]
  },
  {
   "cell_type": "markdown",
   "id": "da7ae671-5496-454a-be03-bf6186fed642",
   "metadata": {
    "tags": []
   },
   "source": [
    "## 3.2 Grab your tags \n",
    "if your plc dataframe is big you may need not remember all the tags ny heart and you would like to grab the tags with key expressions. \n",
    "Use the fonction **getTagsTU** of the object to look for tags using a regular expressions. \n",
    "For example we want to get all the pressure and temperature sensors that works with water(H2O) in our system."
   ]
  },
  {
   "cell_type": "code",
   "execution_count": null,
   "id": "3814ddd0-ea7b-4a13-98dd-7cc4bdd4b41e",
   "metadata": {
    "jupyter": {
     "source_hidden": true
    },
    "tags": []
   },
   "outputs": [],
   "source": [
    "tags=cfg.getTagsTU('[PT]T.*H2O')\n",
    "tags"
   ]
  },
  {
   "cell_type": "markdown",
   "id": "56e08d6b-a188-487c-ad76-a69aea6e13d4",
   "metadata": {
    "jupyter": {
     "outputs_hidden": true
    },
    "tags": []
   },
   "source": [
    "## 3.3 LOAD the data precising the resampling method and resampling time. Here we want the last 2 hours\n",
    "Of course you can get the data from anytime to anytime given t0,t1 as timestamps."
   ]
  },
  {
   "cell_type": "code",
   "execution_count": null,
   "id": "1718557a-7d19-4c28-b035-db3beaced1c5",
   "metadata": {
    "jupyter": {
     "source_hidden": true
    },
    "tags": []
   },
   "outputs": [],
   "source": [
    "t1=pd.Timestamp.now(tz='CET')\n",
    "t0=t1-pd.Timedelta(hours=2)\n",
    "df=cfg.loadtags_period(t0,t1,tags,rs='2s',rsMethod='mean')\n",
    "df"
   ]
  },
  {
   "cell_type": "markdown",
   "id": "9a5311a9-aa4b-49a5-894d-d9e12728ebb7",
   "metadata": {
    "tags": []
   },
   "source": [
    "## 3.4 PLOT the data with a standard multi unit scale graph\n",
    "You can of course also plot the data with your own function. The advantages of this function is that it can plot the data using different y-scales."
   ]
  },
  {
   "cell_type": "code",
   "execution_count": null,
   "id": "22a09369-4e3a-4f11-940b-61f84d9fce4f",
   "metadata": {
    "jupyter": {
     "source_hidden": true
    },
    "tags": []
   },
   "outputs": [],
   "source": [
    "from sylfenUtils.utils import Graphics\n",
    "Graphics().multiUnitGraph(df).show()"
   ]
  },
  {
   "cell_type": "markdown",
   "id": "8877fe2e-25f4-446c-9146-a25fa4edc93d",
   "metadata": {
    "tags": []
   },
   "source": [
    "# 4. DEPLOY THE WEB INTERFACE\n",
    "The interface enables other people(or you) to access the data in a convenient way from the web plateform."
   ]
  },
  {
   "cell_type": "markdown",
   "id": "e8b1d396-225f-4371-aabc-1a5d7174da1a",
   "metadata": {},
   "source": [
    "## 4.1 PREPARE the folder of your app\n",
    "For the application to work (with flask) it is needed to have a folder *templates/* and *static/* in the *root_folder*.\n",
    "\n",
    "Chose your root folder "
   ]
  },
  {
   "cell_type": "code",
   "execution_count": null,
   "id": "c717c025-bb77-416a-9843-0f1f73bf5b92",
   "metadata": {
    "tags": []
   },
   "outputs": [],
   "source": [
    "root_folder=os.path.join(dummy_conf.project_folder,'dashboard')\n",
    "import importlib\n",
    "import sylfenUtils.dashboard as dashboard\n",
    "importlib.reload(dashboard)\n",
    "root_folder"
   ]
  },
  {
   "cell_type": "markdown",
   "id": "283b0288-a8e9-4104-ae92-1c33aa5f4f06",
   "metadata": {},
   "source": [
    "## 4.1 Configure the app with some default settings."
   ]
  },
  {
   "cell_type": "code",
   "execution_count": null,
   "id": "595151a4-1778-4a9c-8708-010a1183ab5e",
   "metadata": {
    "tags": []
   },
   "outputs": [],
   "source": [
    "init_parameters={\n",
    "    'tags':cfg.getTagsTU('[PTF]T.*H2O'),\n",
    "    'fig_name':'temperatures, pressures, and mass flows',\n",
    "    'rs':'30s',\n",
    "    'time_window':str(2*60),\n",
    "    'delay_minutes':0,\n",
    "    'log_versions':None #you can enter the relative path of (in folder static) a .md file summarizing some evolution in your code.\n",
    "}"
   ]
  },
  {
   "cell_type": "markdown",
   "id": "79f47d4c-d694-4f4f-afff-c79b40265ddd",
   "metadata": {},
   "source": [
    "## 4.2 Instanciate the DASHBOARD"
   ]
  },
  {
   "cell_type": "code",
   "execution_count": null,
   "id": "8ae98545-ca81-44c3-ac97-2401538e1e3b",
   "metadata": {
    "tags": []
   },
   "outputs": [],
   "source": [
    "APP_NAME='dummy_app'\n",
    "dash=dashboard.Dashboard(\n",
    "    cfg,\n",
    "    dummy_conf.LOG_FOLDER,\n",
    "    root_folder,\n",
    "    app_name=APP_NAME,\n",
    "    init_parameters=init_parameters,\n",
    "    plot_function=cfg.utils.multiUnitGraph, ## you can use your own function to display the data \n",
    "    version_dashboard='1.0')\n",
    "\n",
    "dash.helpmelink='' ### you can precise a url link on how to use the web interface\n",
    "dash.fig_wh=780### size of the figure"
   ]
  },
  {
   "cell_type": "code",
   "execution_count": null,
   "id": "30716bde-8d5d-4caf-9b62-ed094d98acb0",
   "metadata": {},
   "outputs": [],
   "source": [
    "sylfenUtils.Conf_generator.__file__"
   ]
  },
  {
   "cell_type": "markdown",
   "id": "0669142c-d0c2-4451-bb0f-a3b17a84947b",
   "metadata": {},
   "source": [
    "If you need to extend some functionnality you can do it here.\n",
    "For example you can ask the back end to print a text with front-end get '/example'"
   ]
  },
  {
   "cell_type": "code",
   "execution_count": null,
   "id": "a42d83e5-1b71-400b-9203-e3badf456396",
   "metadata": {
    "tags": []
   },
   "outputs": [],
   "source": [
    "@dash.app.route('/example', methods=['GET'])\n",
    "def example_extension():\n",
    "    print('this is a test')"
   ]
  },
  {
   "cell_type": "markdown",
   "id": "5da60b88-eb8f-490d-91de-912a20a716b9",
   "metadata": {
    "tags": []
   },
   "source": [
    "## 4.4 Start the app"
   ]
  },
  {
   "cell_type": "code",
   "execution_count": null,
   "id": "7f4beef3-9842-4844-8032-1624e8ac016e",
   "metadata": {
    "tags": []
   },
   "outputs": [],
   "source": [
    "port_app=15000\n",
    "dash.app.run(host='0.0.0.0',port=port_app,debug=False,use_reloader=False)"
   ]
  },
  {
   "cell_type": "markdown",
   "id": "109e4242-32a7-460b-a9cc-0f9c1b30fb0d",
   "metadata": {},
   "source": [
    "- to deploy it to the world, open the port of the app on your routeur and use host='0.0.0.0'\n",
    "\n",
    "As Flask says it is not a reliable as a production environment. It is better to use wsgi and gunicorn to run the app.\n",
    "- more convenient is to control the process with with **systemctl** on a Linux server. \n",
    "- Then use **ngnix**(or apache) to make the redirection via a reverse proxy configured in a <myapp>.conf file in the nginx folders *sites_enabled* and *sites-available* to be able to map your domain name or subdomain name to the app. A guide is to be found [here](https://github.com/dorianSylfen/smallpower)."
   ]
  },
  {
   "cell_type": "code",
   "execution_count": null,
   "id": "b03e8b69-b6ba-4e97-99ed-5499d76354b5",
   "metadata": {
    "tags": []
   },
   "outputs": [],
   "source": []
  }
 ],
 "metadata": {
  "kernelspec": {
   "display_name": "sylfenutils",
   "language": "python",
   "name": "sylfenutils"
  },
  "language_info": {
   "codemirror_mode": {
    "name": "ipython",
    "version": 3
   },
   "file_extension": ".py",
   "mimetype": "text/x-python",
   "name": "python",
   "nbconvert_exporter": "python",
   "pygments_lexer": "ipython3",
   "version": "3.8.10"
  }
 },
 "nbformat": 4,
 "nbformat_minor": 5
}
